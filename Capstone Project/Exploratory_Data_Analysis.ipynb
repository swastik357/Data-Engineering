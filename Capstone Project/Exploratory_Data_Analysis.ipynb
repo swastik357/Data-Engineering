{
 "cells": [
  {
   "cell_type": "code",
   "execution_count": 12,
   "metadata": {
    "editable": true
   },
   "outputs": [],
   "source": [
    "import pandas as pd\n",
    "import datetime\n",
    "import os\n",
    "import configparser\n",
    "from datetime import datetime\n",
    "import logging\n",
    "import pandas as pd\n",
    "from pyspark.sql import SparkSession, HiveContext, Row\n",
    "from pyspark.sql.functions import udf, col, lit, substring, split, round, when, expr, concat\n",
    "from pyspark.sql.functions import year, month, dayofmonth, hour, weekofyear, date_format, upper, to_date\n",
    "from pyspark.sql.functions import regexp_replace\n",
    "from pyspark.sql.functions import monotonically_increasing_id\n",
    "from pyspark.sql.types import StructType as StructType, DoubleType as DoubleType, StructField as StructField\n",
    "from pyspark.sql.types import StringType as StringType, IntegerType as IntegerType, TimestampType, DateType"
   ]
  },
  {
   "cell_type": "code",
   "execution_count": 13,
   "metadata": {
    "editable": true
   },
   "outputs": [
    {
     "data": {
      "text/html": [
       "<div>\n",
       "<style scoped>\n",
       "    .dataframe tbody tr th:only-of-type {\n",
       "        vertical-align: middle;\n",
       "    }\n",
       "\n",
       "    .dataframe tbody tr th {\n",
       "        vertical-align: top;\n",
       "    }\n",
       "\n",
       "    .dataframe thead th {\n",
       "        text-align: right;\n",
       "    }\n",
       "</style>\n",
       "<table border=\"1\" class=\"dataframe\">\n",
       "  <thead>\n",
       "    <tr style=\"text-align: right;\">\n",
       "      <th></th>\n",
       "      <th>ident</th>\n",
       "      <th>type</th>\n",
       "      <th>name</th>\n",
       "      <th>elevation_ft</th>\n",
       "      <th>continent</th>\n",
       "      <th>iso_country</th>\n",
       "      <th>iso_region</th>\n",
       "      <th>municipality</th>\n",
       "      <th>gps_code</th>\n",
       "      <th>iata_code</th>\n",
       "      <th>local_code</th>\n",
       "      <th>coordinates</th>\n",
       "    </tr>\n",
       "  </thead>\n",
       "  <tbody>\n",
       "    <tr>\n",
       "      <th>0</th>\n",
       "      <td>00A</td>\n",
       "      <td>heliport</td>\n",
       "      <td>Total Rf Heliport</td>\n",
       "      <td>11.0</td>\n",
       "      <td>NaN</td>\n",
       "      <td>US</td>\n",
       "      <td>PA</td>\n",
       "      <td>Bensalem</td>\n",
       "      <td>00A</td>\n",
       "      <td>NaN</td>\n",
       "      <td>00A</td>\n",
       "      <td>-74.93360137939453, 40.07080078125</td>\n",
       "    </tr>\n",
       "    <tr>\n",
       "      <th>1</th>\n",
       "      <td>00AA</td>\n",
       "      <td>small_airport</td>\n",
       "      <td>Aero B Ranch Airport</td>\n",
       "      <td>3435.0</td>\n",
       "      <td>NaN</td>\n",
       "      <td>US</td>\n",
       "      <td>KS</td>\n",
       "      <td>Leoti</td>\n",
       "      <td>00AA</td>\n",
       "      <td>NaN</td>\n",
       "      <td>00AA</td>\n",
       "      <td>-101.473911, 38.704022</td>\n",
       "    </tr>\n",
       "    <tr>\n",
       "      <th>2</th>\n",
       "      <td>00AK</td>\n",
       "      <td>small_airport</td>\n",
       "      <td>Lowell Field</td>\n",
       "      <td>450.0</td>\n",
       "      <td>NaN</td>\n",
       "      <td>US</td>\n",
       "      <td>AK</td>\n",
       "      <td>Anchor Point</td>\n",
       "      <td>00AK</td>\n",
       "      <td>NaN</td>\n",
       "      <td>00AK</td>\n",
       "      <td>-151.695999146, 59.94919968</td>\n",
       "    </tr>\n",
       "    <tr>\n",
       "      <th>3</th>\n",
       "      <td>00AL</td>\n",
       "      <td>small_airport</td>\n",
       "      <td>Epps Airpark</td>\n",
       "      <td>820.0</td>\n",
       "      <td>NaN</td>\n",
       "      <td>US</td>\n",
       "      <td>AL</td>\n",
       "      <td>Harvest</td>\n",
       "      <td>00AL</td>\n",
       "      <td>NaN</td>\n",
       "      <td>00AL</td>\n",
       "      <td>-86.77030181884766, 34.86479949951172</td>\n",
       "    </tr>\n",
       "    <tr>\n",
       "      <th>4</th>\n",
       "      <td>00AR</td>\n",
       "      <td>closed</td>\n",
       "      <td>Newport Hospital &amp; Clinic Heliport</td>\n",
       "      <td>237.0</td>\n",
       "      <td>NaN</td>\n",
       "      <td>US</td>\n",
       "      <td>AR</td>\n",
       "      <td>Newport</td>\n",
       "      <td>NaN</td>\n",
       "      <td>NaN</td>\n",
       "      <td>NaN</td>\n",
       "      <td>-91.254898, 35.6087</td>\n",
       "    </tr>\n",
       "  </tbody>\n",
       "</table>\n",
       "</div>"
      ],
      "text/plain": [
       "  ident           type                                name  elevation_ft  \\\n",
       "0   00A       heliport                   Total Rf Heliport          11.0   \n",
       "1  00AA  small_airport                Aero B Ranch Airport        3435.0   \n",
       "2  00AK  small_airport                        Lowell Field         450.0   \n",
       "3  00AL  small_airport                        Epps Airpark         820.0   \n",
       "4  00AR         closed  Newport Hospital & Clinic Heliport         237.0   \n",
       "\n",
       "  continent iso_country iso_region  municipality gps_code iata_code  \\\n",
       "0       NaN          US         PA      Bensalem      00A       NaN   \n",
       "1       NaN          US         KS         Leoti     00AA       NaN   \n",
       "2       NaN          US         AK  Anchor Point     00AK       NaN   \n",
       "3       NaN          US         AL       Harvest     00AL       NaN   \n",
       "4       NaN          US         AR       Newport      NaN       NaN   \n",
       "\n",
       "  local_code                            coordinates  \n",
       "0        00A     -74.93360137939453, 40.07080078125  \n",
       "1       00AA                 -101.473911, 38.704022  \n",
       "2       00AK            -151.695999146, 59.94919968  \n",
       "3       00AL  -86.77030181884766, 34.86479949951172  \n",
       "4        NaN                    -91.254898, 35.6087  "
      ]
     },
     "execution_count": 13,
     "metadata": {},
     "output_type": "execute_result"
    }
   ],
   "source": [
    "df_airport=pd.read_csv(\"airport-codes_csv.csv\")\n",
    "df_airport[\"iso_region\"]=df_airport[\"iso_region\"].str.slice(3,6)\n",
    "df_airport['type'].unique()\n",
    "df_airport.head(5)"
   ]
  },
  {
   "cell_type": "code",
   "execution_count": 14,
   "metadata": {
    "editable": true
   },
   "outputs": [
    {
     "name": "stderr",
     "output_type": "stream",
     "text": [
      "/opt/conda/lib/python3.6/site-packages/ipykernel_launcher.py:3: SettingWithCopyWarning: \n",
      "A value is trying to be set on a copy of a slice from a DataFrame.\n",
      "Try using .loc[row_indexer,col_indexer] = value instead\n",
      "\n",
      "See the caveats in the documentation: http://pandas.pydata.org/pandas-docs/stable/indexing.html#indexing-view-versus-copy\n",
      "  This is separate from the ipykernel package so we can avoid doing imports until\n",
      "/opt/conda/lib/python3.6/site-packages/ipykernel_launcher.py:4: SettingWithCopyWarning: \n",
      "A value is trying to be set on a copy of a slice from a DataFrame.\n",
      "Try using .loc[row_indexer,col_indexer] = value instead\n",
      "\n",
      "See the caveats in the documentation: http://pandas.pydata.org/pandas-docs/stable/indexing.html#indexing-view-versus-copy\n",
      "  after removing the cwd from sys.path.\n"
     ]
    },
    {
     "data": {
      "text/html": [
       "<div>\n",
       "<style scoped>\n",
       "    .dataframe tbody tr th:only-of-type {\n",
       "        vertical-align: middle;\n",
       "    }\n",
       "\n",
       "    .dataframe tbody tr th {\n",
       "        vertical-align: top;\n",
       "    }\n",
       "\n",
       "    .dataframe thead th {\n",
       "        text-align: right;\n",
       "    }\n",
       "</style>\n",
       "<table border=\"1\" class=\"dataframe\">\n",
       "  <thead>\n",
       "    <tr style=\"text-align: right;\">\n",
       "      <th></th>\n",
       "      <th>city</th>\n",
       "      <th>state_code</th>\n",
       "      <th>country</th>\n",
       "    </tr>\n",
       "  </thead>\n",
       "  <tbody>\n",
       "    <tr>\n",
       "      <th>0</th>\n",
       "      <td>BENSALEM</td>\n",
       "      <td>PA</td>\n",
       "      <td>United States</td>\n",
       "    </tr>\n",
       "    <tr>\n",
       "      <th>1</th>\n",
       "      <td>LEOTI</td>\n",
       "      <td>KS</td>\n",
       "      <td>United States</td>\n",
       "    </tr>\n",
       "    <tr>\n",
       "      <th>2</th>\n",
       "      <td>ANCHOR POINT</td>\n",
       "      <td>AK</td>\n",
       "      <td>United States</td>\n",
       "    </tr>\n",
       "    <tr>\n",
       "      <th>3</th>\n",
       "      <td>HARVEST</td>\n",
       "      <td>AL</td>\n",
       "      <td>United States</td>\n",
       "    </tr>\n",
       "    <tr>\n",
       "      <th>4</th>\n",
       "      <td>NEWPORT</td>\n",
       "      <td>AR</td>\n",
       "      <td>United States</td>\n",
       "    </tr>\n",
       "  </tbody>\n",
       "</table>\n",
       "</div>"
      ],
      "text/plain": [
       "           city state_code        country\n",
       "0      BENSALEM         PA  United States\n",
       "1         LEOTI         KS  United States\n",
       "2  ANCHOR POINT         AK  United States\n",
       "3       HARVEST         AL  United States\n",
       "4       NEWPORT         AR  United States"
      ]
     },
     "execution_count": 14,
     "metadata": {},
     "output_type": "execute_result"
    }
   ],
   "source": [
    "dim_airport_city_state_code=df_airport[['municipality','iso_region']]\n",
    "dim_airport_city_state_code.columns=['city','state_code']\n",
    "dim_airport_city_state_code['country']='United States'\n",
    "dim_airport_city_state_code['city'] = dim_airport_city_state_code['city'].str.upper()\n",
    "dim_airport_city_state_code.head(5)"
   ]
  },
  {
   "cell_type": "code",
   "execution_count": 4,
   "metadata": {
    "editable": true
   },
   "outputs": [
    {
     "data": {
      "text/html": [
       "<div>\n",
       "<style scoped>\n",
       "    .dataframe tbody tr th:only-of-type {\n",
       "        vertical-align: middle;\n",
       "    }\n",
       "\n",
       "    .dataframe tbody tr th {\n",
       "        vertical-align: top;\n",
       "    }\n",
       "\n",
       "    .dataframe thead th {\n",
       "        text-align: right;\n",
       "    }\n",
       "</style>\n",
       "<table border=\"1\" class=\"dataframe\">\n",
       "  <thead>\n",
       "    <tr style=\"text-align: right;\">\n",
       "      <th></th>\n",
       "      <th>code</th>\n",
       "      <th>airport_type</th>\n",
       "    </tr>\n",
       "  </thead>\n",
       "  <tbody>\n",
       "    <tr>\n",
       "      <th>0</th>\n",
       "      <td>1</td>\n",
       "      <td>closed</td>\n",
       "    </tr>\n",
       "    <tr>\n",
       "      <th>1</th>\n",
       "      <td>2</td>\n",
       "      <td>small_airport</td>\n",
       "    </tr>\n",
       "    <tr>\n",
       "      <th>2</th>\n",
       "      <td>3</td>\n",
       "      <td>medium_airport</td>\n",
       "    </tr>\n",
       "    <tr>\n",
       "      <th>3</th>\n",
       "      <td>4</td>\n",
       "      <td>large_airport</td>\n",
       "    </tr>\n",
       "    <tr>\n",
       "      <th>4</th>\n",
       "      <td>5</td>\n",
       "      <td>heliport</td>\n",
       "    </tr>\n",
       "    <tr>\n",
       "      <th>5</th>\n",
       "      <td>6</td>\n",
       "      <td>seaplane_base</td>\n",
       "    </tr>\n",
       "    <tr>\n",
       "      <th>6</th>\n",
       "      <td>7</td>\n",
       "      <td>balloonport</td>\n",
       "    </tr>\n",
       "  </tbody>\n",
       "</table>\n",
       "</div>"
      ],
      "text/plain": [
       "   code    airport_type\n",
       "0     1          closed\n",
       "1     2   small_airport\n",
       "2     3  medium_airport\n",
       "3     4   large_airport\n",
       "4     5        heliport\n",
       "5     6   seaplane_base\n",
       "6     7     balloonport"
      ]
     },
     "execution_count": 4,
     "metadata": {},
     "output_type": "execute_result"
    }
   ],
   "source": [
    "data = {'code':[1,2,3,4,5,6,7],\n",
    "        'airport_type':['closed','small_airport','medium_airport','large_airport','heliport', 'seaplane_base','balloonport']}\n",
    "dim_airport_type=pd.DataFrame(data)\n",
    "dim_airport_type"
   ]
  },
  {
   "cell_type": "code",
   "execution_count": 5,
   "metadata": {
    "editable": true
   },
   "outputs": [
    {
     "name": "stderr",
     "output_type": "stream",
     "text": [
      "/opt/conda/lib/python3.6/site-packages/pandas/core/frame.py:3140: SettingWithCopyWarning: \n",
      "A value is trying to be set on a copy of a slice from a DataFrame.\n",
      "Try using .loc[row_indexer,col_indexer] = value instead\n",
      "\n",
      "See the caveats in the documentation: http://pandas.pydata.org/pandas-docs/stable/indexing.html#indexing-view-versus-copy\n",
      "  self[k1] = value[k2]\n"
     ]
    },
    {
     "data": {
      "text/html": [
       "<div>\n",
       "<style scoped>\n",
       "    .dataframe tbody tr th:only-of-type {\n",
       "        vertical-align: middle;\n",
       "    }\n",
       "\n",
       "    .dataframe tbody tr th {\n",
       "        vertical-align: top;\n",
       "    }\n",
       "\n",
       "    .dataframe thead th {\n",
       "        text-align: right;\n",
       "    }\n",
       "</style>\n",
       "<table border=\"1\" class=\"dataframe\">\n",
       "  <thead>\n",
       "    <tr style=\"text-align: right;\">\n",
       "      <th></th>\n",
       "      <th>ident</th>\n",
       "      <th>airport_type_code</th>\n",
       "      <th>airport_name</th>\n",
       "      <th>elevation_ft</th>\n",
       "      <th>city</th>\n",
       "      <th>iata_code</th>\n",
       "      <th>airport_longitude</th>\n",
       "      <th>airport_latitude</th>\n",
       "    </tr>\n",
       "  </thead>\n",
       "  <tbody>\n",
       "    <tr>\n",
       "      <th>0</th>\n",
       "      <td>00A</td>\n",
       "      <td>5</td>\n",
       "      <td>Total Rf Heliport</td>\n",
       "      <td>11.0</td>\n",
       "      <td>Bensalem</td>\n",
       "      <td>NaN</td>\n",
       "      <td>-74.93</td>\n",
       "      <td>40.07</td>\n",
       "    </tr>\n",
       "    <tr>\n",
       "      <th>1</th>\n",
       "      <td>00AA</td>\n",
       "      <td>2</td>\n",
       "      <td>Aero B Ranch Airport</td>\n",
       "      <td>3435.0</td>\n",
       "      <td>Leoti</td>\n",
       "      <td>NaN</td>\n",
       "      <td>-101.47</td>\n",
       "      <td>38.70</td>\n",
       "    </tr>\n",
       "    <tr>\n",
       "      <th>2</th>\n",
       "      <td>00AK</td>\n",
       "      <td>2</td>\n",
       "      <td>Lowell Field</td>\n",
       "      <td>450.0</td>\n",
       "      <td>Anchor Point</td>\n",
       "      <td>NaN</td>\n",
       "      <td>-151.70</td>\n",
       "      <td>59.95</td>\n",
       "    </tr>\n",
       "    <tr>\n",
       "      <th>3</th>\n",
       "      <td>00AL</td>\n",
       "      <td>2</td>\n",
       "      <td>Epps Airpark</td>\n",
       "      <td>820.0</td>\n",
       "      <td>Harvest</td>\n",
       "      <td>NaN</td>\n",
       "      <td>-86.77</td>\n",
       "      <td>34.86</td>\n",
       "    </tr>\n",
       "    <tr>\n",
       "      <th>4</th>\n",
       "      <td>00AR</td>\n",
       "      <td>1</td>\n",
       "      <td>Newport Hospital &amp; Clinic Heliport</td>\n",
       "      <td>237.0</td>\n",
       "      <td>Newport</td>\n",
       "      <td>NaN</td>\n",
       "      <td>-91.25</td>\n",
       "      <td>35.61</td>\n",
       "    </tr>\n",
       "  </tbody>\n",
       "</table>\n",
       "</div>"
      ],
      "text/plain": [
       "  ident  airport_type_code                        airport_name  elevation_ft  \\\n",
       "0   00A                  5                   Total Rf Heliport          11.0   \n",
       "1  00AA                  2                Aero B Ranch Airport        3435.0   \n",
       "2  00AK                  2                        Lowell Field         450.0   \n",
       "3  00AL                  2                        Epps Airpark         820.0   \n",
       "4  00AR                  1  Newport Hospital & Clinic Heliport         237.0   \n",
       "\n",
       "           city iata_code  airport_longitude  airport_latitude  \n",
       "0      Bensalem       NaN             -74.93             40.07  \n",
       "1         Leoti       NaN            -101.47             38.70  \n",
       "2  Anchor Point       NaN            -151.70             59.95  \n",
       "3       Harvest       NaN             -86.77             34.86  \n",
       "4       Newport       NaN             -91.25             35.61  "
      ]
     },
     "execution_count": 5,
     "metadata": {},
     "output_type": "execute_result"
    }
   ],
   "source": [
    "dim_airport=df_airport[[\"ident\",\"type\",\"name\",\"elevation_ft\",\"municipality\",\"iata_code\",\"coordinates\"]]\n",
    "dim_airport[['longitude','latitude']] = dim_airport['coordinates'].str.split(',',expand=True)\n",
    "dim_airport=dim_airport.drop(['coordinates'],axis=1)\n",
    "dim_airport[['longitude','latitude']] = dim_airport[['longitude','latitude']].apply(pd.to_numeric)\n",
    "dim_airport=dim_airport.round({'latitude': 2, 'longitude': 2})\n",
    "#dim_airport['longitude']=dim_airport['longitude'].astype(str)+'W'\n",
    "#dim_airport['latitude']=dim_airport['latitude'].astype(str)+'N'\n",
    "code=[1,2,3,4,5,6,7]\n",
    "airport_type=['closed','small_airport','medium_airport','large_airport','heliport', 'seaplane_base','balloonport']\n",
    "for i in range(len(code)):\n",
    "    key,val=code[i],airport_type[i]\n",
    "    dim_airport.loc[(dim_airport['type']==val).squeeze(),'type']=key\n",
    "dim_airport.columns=['ident','airport_type_code','airport_name','elevation_ft','city','iata_code','airport_longitude','airport_latitude']\n",
    "dim_airport['city'] = dim_airport['city'].str.upper()\n",
    "dim_airport.head(5)"
   ]
  },
  {
   "cell_type": "code",
   "execution_count": 97,
   "metadata": {
    "editable": true
   },
   "outputs": [],
   "source": [
    "df_immigration=pd.read_csv(\"immigration_data_sample.csv\")\n",
    "df_immigration['country'] = 'United States'"
   ]
  },
  {
   "cell_type": "code",
   "execution_count": 98,
   "metadata": {
    "editable": true
   },
   "outputs": [
    {
     "data": {
      "text/html": [
       "<div>\n",
       "<style scoped>\n",
       "    .dataframe tbody tr th:only-of-type {\n",
       "        vertical-align: middle;\n",
       "    }\n",
       "\n",
       "    .dataframe tbody tr th {\n",
       "        vertical-align: top;\n",
       "    }\n",
       "\n",
       "    .dataframe thead th {\n",
       "        text-align: right;\n",
       "    }\n",
       "</style>\n",
       "<table border=\"1\" class=\"dataframe\">\n",
       "  <thead>\n",
       "    <tr style=\"text-align: right;\">\n",
       "      <th></th>\n",
       "      <th>cic_id</th>\n",
       "      <th>year</th>\n",
       "      <th>month</th>\n",
       "      <th>city_code</th>\n",
       "      <th>state_code</th>\n",
       "      <th>arrival_date</th>\n",
       "      <th>departure_date</th>\n",
       "      <th>mode</th>\n",
       "      <th>country</th>\n",
       "      <th>matflag</th>\n",
       "      <th>entdepa</th>\n",
       "      <th>entdepd</th>\n",
       "      <th>dtaddto</th>\n",
       "      <th>dtadfile</th>\n",
       "      <th>occup</th>\n",
       "      <th>count</th>\n",
       "    </tr>\n",
       "  </thead>\n",
       "  <tbody>\n",
       "    <tr>\n",
       "      <th>0</th>\n",
       "      <td>4084316.0</td>\n",
       "      <td>2016.0</td>\n",
       "      <td>4.0</td>\n",
       "      <td>HHW</td>\n",
       "      <td>HI</td>\n",
       "      <td>20566.0</td>\n",
       "      <td>20573.0</td>\n",
       "      <td>1.0</td>\n",
       "      <td>United States</td>\n",
       "      <td>M</td>\n",
       "      <td>G</td>\n",
       "      <td>O</td>\n",
       "      <td>07202016</td>\n",
       "      <td>20160422</td>\n",
       "      <td>NaN</td>\n",
       "      <td>1.0</td>\n",
       "    </tr>\n",
       "    <tr>\n",
       "      <th>1</th>\n",
       "      <td>4422636.0</td>\n",
       "      <td>2016.0</td>\n",
       "      <td>4.0</td>\n",
       "      <td>MCA</td>\n",
       "      <td>TX</td>\n",
       "      <td>20567.0</td>\n",
       "      <td>20568.0</td>\n",
       "      <td>1.0</td>\n",
       "      <td>United States</td>\n",
       "      <td>M</td>\n",
       "      <td>G</td>\n",
       "      <td>R</td>\n",
       "      <td>10222016</td>\n",
       "      <td>20160423</td>\n",
       "      <td>NaN</td>\n",
       "      <td>1.0</td>\n",
       "    </tr>\n",
       "    <tr>\n",
       "      <th>2</th>\n",
       "      <td>1195600.0</td>\n",
       "      <td>2016.0</td>\n",
       "      <td>4.0</td>\n",
       "      <td>OGG</td>\n",
       "      <td>FL</td>\n",
       "      <td>20551.0</td>\n",
       "      <td>20571.0</td>\n",
       "      <td>1.0</td>\n",
       "      <td>United States</td>\n",
       "      <td>M</td>\n",
       "      <td>G</td>\n",
       "      <td>O</td>\n",
       "      <td>07052016</td>\n",
       "      <td>20160407</td>\n",
       "      <td>NaN</td>\n",
       "      <td>1.0</td>\n",
       "    </tr>\n",
       "    <tr>\n",
       "      <th>3</th>\n",
       "      <td>5291768.0</td>\n",
       "      <td>2016.0</td>\n",
       "      <td>4.0</td>\n",
       "      <td>LOS</td>\n",
       "      <td>CA</td>\n",
       "      <td>20572.0</td>\n",
       "      <td>20581.0</td>\n",
       "      <td>1.0</td>\n",
       "      <td>United States</td>\n",
       "      <td>M</td>\n",
       "      <td>G</td>\n",
       "      <td>O</td>\n",
       "      <td>10272016</td>\n",
       "      <td>20160428</td>\n",
       "      <td>NaN</td>\n",
       "      <td>1.0</td>\n",
       "    </tr>\n",
       "    <tr>\n",
       "      <th>4</th>\n",
       "      <td>985523.0</td>\n",
       "      <td>2016.0</td>\n",
       "      <td>4.0</td>\n",
       "      <td>CHM</td>\n",
       "      <td>NY</td>\n",
       "      <td>20550.0</td>\n",
       "      <td>20553.0</td>\n",
       "      <td>3.0</td>\n",
       "      <td>United States</td>\n",
       "      <td>M</td>\n",
       "      <td>Z</td>\n",
       "      <td>K</td>\n",
       "      <td>07042016</td>\n",
       "      <td>20160406</td>\n",
       "      <td>NaN</td>\n",
       "      <td>1.0</td>\n",
       "    </tr>\n",
       "  </tbody>\n",
       "</table>\n",
       "</div>"
      ],
      "text/plain": [
       "      cic_id    year  month city_code state_code  arrival_date  \\\n",
       "0  4084316.0  2016.0    4.0       HHW         HI       20566.0   \n",
       "1  4422636.0  2016.0    4.0       MCA         TX       20567.0   \n",
       "2  1195600.0  2016.0    4.0       OGG         FL       20551.0   \n",
       "3  5291768.0  2016.0    4.0       LOS         CA       20572.0   \n",
       "4   985523.0  2016.0    4.0       CHM         NY       20550.0   \n",
       "\n",
       "   departure_date  mode        country matflag entdepa entdepd   dtaddto  \\\n",
       "0         20573.0   1.0  United States       M       G       O  07202016   \n",
       "1         20568.0   1.0  United States       M       G       R  10222016   \n",
       "2         20571.0   1.0  United States       M       G       O  07052016   \n",
       "3         20581.0   1.0  United States       M       G       O  10272016   \n",
       "4         20553.0   3.0  United States       M       Z       K  07042016   \n",
       "\n",
       "   dtadfile occup  count  \n",
       "0  20160422   NaN    1.0  \n",
       "1  20160423   NaN    1.0  \n",
       "2  20160407   NaN    1.0  \n",
       "3  20160428   NaN    1.0  \n",
       "4  20160406   NaN    1.0  "
      ]
     },
     "execution_count": 98,
     "metadata": {},
     "output_type": "execute_result"
    }
   ],
   "source": [
    "fact_immigration = df_immigration[['cicid', 'i94yr', 'i94mon', 'i94port', 'i94addr', 'arrdate', 'depdate', 'i94mode','country','matflag','entdepa','entdepd','dtaddto','dtadfile','occup','count']]\n",
    "fact_immigration.columns = ['cic_id', 'year', 'month', 'city_code', 'state_code', 'arrival_date', 'departure_date', 'mode','country','matflag','entdepa','entdepd','dtaddto','dtadfile','occup','count']\n",
    "fact_immigration.head(5)"
   ]
  },
  {
   "cell_type": "code",
   "execution_count": 99,
   "metadata": {
    "editable": true
   },
   "outputs": [
    {
     "data": {
      "text/html": [
       "<div>\n",
       "<style scoped>\n",
       "    .dataframe tbody tr th:only-of-type {\n",
       "        vertical-align: middle;\n",
       "    }\n",
       "\n",
       "    .dataframe tbody tr th {\n",
       "        vertical-align: top;\n",
       "    }\n",
       "\n",
       "    .dataframe thead th {\n",
       "        text-align: right;\n",
       "    }\n",
       "</style>\n",
       "<table border=\"1\" class=\"dataframe\">\n",
       "  <thead>\n",
       "    <tr style=\"text-align: right;\">\n",
       "      <th></th>\n",
       "      <th>code</th>\n",
       "      <th>entdepa</th>\n",
       "    </tr>\n",
       "  </thead>\n",
       "  <tbody>\n",
       "    <tr>\n",
       "      <th>0</th>\n",
       "      <td>1</td>\n",
       "      <td>G</td>\n",
       "    </tr>\n",
       "    <tr>\n",
       "      <th>1</th>\n",
       "      <td>2</td>\n",
       "      <td>Z</td>\n",
       "    </tr>\n",
       "    <tr>\n",
       "      <th>2</th>\n",
       "      <td>3</td>\n",
       "      <td>T</td>\n",
       "    </tr>\n",
       "    <tr>\n",
       "      <th>3</th>\n",
       "      <td>4</td>\n",
       "      <td>O</td>\n",
       "    </tr>\n",
       "    <tr>\n",
       "      <th>4</th>\n",
       "      <td>5</td>\n",
       "      <td>P</td>\n",
       "    </tr>\n",
       "    <tr>\n",
       "      <th>5</th>\n",
       "      <td>6</td>\n",
       "      <td>A</td>\n",
       "    </tr>\n",
       "    <tr>\n",
       "      <th>6</th>\n",
       "      <td>7</td>\n",
       "      <td>K</td>\n",
       "    </tr>\n",
       "    <tr>\n",
       "      <th>7</th>\n",
       "      <td>8</td>\n",
       "      <td>U</td>\n",
       "    </tr>\n",
       "    <tr>\n",
       "      <th>8</th>\n",
       "      <td>9</td>\n",
       "      <td>H</td>\n",
       "    </tr>\n",
       "    <tr>\n",
       "      <th>9</th>\n",
       "      <td>10</td>\n",
       "      <td>F</td>\n",
       "    </tr>\n",
       "    <tr>\n",
       "      <th>10</th>\n",
       "      <td>11</td>\n",
       "      <td>B</td>\n",
       "    </tr>\n",
       "    <tr>\n",
       "      <th>11</th>\n",
       "      <td>12</td>\n",
       "      <td>M</td>\n",
       "    </tr>\n",
       "    <tr>\n",
       "      <th>12</th>\n",
       "      <td>13</td>\n",
       "      <td>N</td>\n",
       "    </tr>\n",
       "    <tr>\n",
       "      <th>13</th>\n",
       "      <td>14</td>\n",
       "      <td>NAN</td>\n",
       "    </tr>\n",
       "  </tbody>\n",
       "</table>\n",
       "</div>"
      ],
      "text/plain": [
       "    code entdepa\n",
       "0      1       G\n",
       "1      2       Z\n",
       "2      3       T\n",
       "3      4       O\n",
       "4      5       P\n",
       "5      6       A\n",
       "6      7       K\n",
       "7      8       U\n",
       "8      9       H\n",
       "9     10       F\n",
       "10    11       B\n",
       "11    12       M\n",
       "12    13       N\n",
       "13    14     NAN"
      ]
     },
     "execution_count": 99,
     "metadata": {},
     "output_type": "execute_result"
    }
   ],
   "source": [
    "data = {'code':[1,2,3,4,5,6,7,8,9,10,11,12,13,14],\n",
    "        'entdepa':['G','Z','T','O','P','A','K','U','H','F','B','M','N','NAN']}\n",
    "dim_immigration_entdepa=pd.DataFrame(data)\n",
    "dim_immigration_entdepa"
   ]
  },
  {
   "cell_type": "code",
   "execution_count": 100,
   "metadata": {
    "editable": true
   },
   "outputs": [
    {
     "data": {
      "text/html": [
       "<div>\n",
       "<style scoped>\n",
       "    .dataframe tbody tr th:only-of-type {\n",
       "        vertical-align: middle;\n",
       "    }\n",
       "\n",
       "    .dataframe tbody tr th {\n",
       "        vertical-align: top;\n",
       "    }\n",
       "\n",
       "    .dataframe thead th {\n",
       "        text-align: right;\n",
       "    }\n",
       "</style>\n",
       "<table border=\"1\" class=\"dataframe\">\n",
       "  <thead>\n",
       "    <tr style=\"text-align: right;\">\n",
       "      <th></th>\n",
       "      <th>code</th>\n",
       "      <th>entdepd</th>\n",
       "    </tr>\n",
       "  </thead>\n",
       "  <tbody>\n",
       "    <tr>\n",
       "      <th>0</th>\n",
       "      <td>1</td>\n",
       "      <td>O</td>\n",
       "    </tr>\n",
       "    <tr>\n",
       "      <th>1</th>\n",
       "      <td>2</td>\n",
       "      <td>R</td>\n",
       "    </tr>\n",
       "    <tr>\n",
       "      <th>2</th>\n",
       "      <td>3</td>\n",
       "      <td>K</td>\n",
       "    </tr>\n",
       "    <tr>\n",
       "      <th>3</th>\n",
       "      <td>4</td>\n",
       "      <td>N</td>\n",
       "    </tr>\n",
       "    <tr>\n",
       "      <th>4</th>\n",
       "      <td>5</td>\n",
       "      <td>D</td>\n",
       "    </tr>\n",
       "    <tr>\n",
       "      <th>5</th>\n",
       "      <td>6</td>\n",
       "      <td>I</td>\n",
       "    </tr>\n",
       "    <tr>\n",
       "      <th>6</th>\n",
       "      <td>7</td>\n",
       "      <td>Q</td>\n",
       "    </tr>\n",
       "    <tr>\n",
       "      <th>7</th>\n",
       "      <td>8</td>\n",
       "      <td>J</td>\n",
       "    </tr>\n",
       "    <tr>\n",
       "      <th>8</th>\n",
       "      <td>9</td>\n",
       "      <td>W</td>\n",
       "    </tr>\n",
       "    <tr>\n",
       "      <th>9</th>\n",
       "      <td>10</td>\n",
       "      <td>L</td>\n",
       "    </tr>\n",
       "    <tr>\n",
       "      <th>10</th>\n",
       "      <td>11</td>\n",
       "      <td>M</td>\n",
       "    </tr>\n",
       "    <tr>\n",
       "      <th>11</th>\n",
       "      <td>12</td>\n",
       "      <td>V</td>\n",
       "    </tr>\n",
       "    <tr>\n",
       "      <th>12</th>\n",
       "      <td>13</td>\n",
       "      <td>NAN</td>\n",
       "    </tr>\n",
       "  </tbody>\n",
       "</table>\n",
       "</div>"
      ],
      "text/plain": [
       "    code entdepd\n",
       "0      1       O\n",
       "1      2       R\n",
       "2      3       K\n",
       "3      4       N\n",
       "4      5       D\n",
       "5      6       I\n",
       "6      7       Q\n",
       "7      8       J\n",
       "8      9       W\n",
       "9     10       L\n",
       "10    11       M\n",
       "11    12       V\n",
       "12    13     NAN"
      ]
     },
     "execution_count": 100,
     "metadata": {},
     "output_type": "execute_result"
    }
   ],
   "source": [
    "data = {'code':[1,2,3,4,5,6,7,8,9,10,11,12,13],\n",
    "        'entdepd':['O','R','K','N','D','I','Q','J','W','L','M','V','NAN']}\n",
    "dim_immigration_entdepd=pd.DataFrame(data)\n",
    "dim_immigration_entdepd"
   ]
  },
  {
   "cell_type": "code",
   "execution_count": 101,
   "metadata": {
    "editable": true
   },
   "outputs": [
    {
     "name": "stderr",
     "output_type": "stream",
     "text": [
      "/opt/conda/lib/python3.6/site-packages/ipykernel_launcher.py:4: SettingWithCopyWarning: \n",
      "A value is trying to be set on a copy of a slice from a DataFrame.\n",
      "Try using .loc[row_indexer,col_indexer] = value instead\n",
      "\n",
      "See the caveats in the documentation: http://pandas.pydata.org/pandas-docs/stable/indexing.html#indexing-view-versus-copy\n",
      "  after removing the cwd from sys.path.\n",
      "/opt/conda/lib/python3.6/site-packages/ipykernel_launcher.py:5: SettingWithCopyWarning: \n",
      "A value is trying to be set on a copy of a slice from a DataFrame.\n",
      "Try using .loc[row_indexer,col_indexer] = value instead\n",
      "\n",
      "See the caveats in the documentation: http://pandas.pydata.org/pandas-docs/stable/indexing.html#indexing-view-versus-copy\n",
      "  \"\"\"\n"
     ]
    }
   ],
   "source": [
    "map_entdepd={'O':1,'R':2,'K':3,'N':4,'D':5,'I':6,'Q':7,'J':8,'W':9,'L':10,'M':11,'V':12,'NAN':13}\n",
    "map_entdepa={'G':1,'Z':2,'T':3,'O':4,'P':5,'A':6,'K':7,'U':8,'H':9,'F':10,'B':11,'M':12,'N':13,'NAN':14}\n",
    "\n",
    "fact_immigration['entdepd'] = fact_immigration['entdepd'].fillna(13)\n",
    "fact_immigration['entdepa'] = fact_immigration['entdepa'].fillna(14)\n",
    "\n",
    "fact_immigration=fact_immigration.replace({\"entdepd\":map_entdepd})\n",
    "fact_immigration=fact_immigration.replace({\"entdepa\":map_entdepa})\n",
    "\n",
    "fact_immigration.columns = ['cic_id', 'year', 'month', 'city_code', 'state_code', 'arrival_date', 'departure_date', 'mode','country','matflag','entdepa_code','entdepd_code','dtaddto','dtadfile','occup','count']"
   ]
  },
  {
   "cell_type": "code",
   "execution_count": 102,
   "metadata": {
    "editable": true
   },
   "outputs": [
    {
     "data": {
      "text/html": [
       "<div>\n",
       "<style scoped>\n",
       "    .dataframe tbody tr th:only-of-type {\n",
       "        vertical-align: middle;\n",
       "    }\n",
       "\n",
       "    .dataframe tbody tr th {\n",
       "        vertical-align: top;\n",
       "    }\n",
       "\n",
       "    .dataframe thead th {\n",
       "        text-align: right;\n",
       "    }\n",
       "</style>\n",
       "<table border=\"1\" class=\"dataframe\">\n",
       "  <thead>\n",
       "    <tr style=\"text-align: right;\">\n",
       "      <th></th>\n",
       "      <th>cic_id</th>\n",
       "      <th>year</th>\n",
       "      <th>month</th>\n",
       "      <th>city_code</th>\n",
       "      <th>state_code</th>\n",
       "      <th>arrival_date</th>\n",
       "      <th>departure_date</th>\n",
       "      <th>mode</th>\n",
       "      <th>country</th>\n",
       "      <th>matflag</th>\n",
       "      <th>entdepa_code</th>\n",
       "      <th>entdepd_code</th>\n",
       "      <th>dtaddto</th>\n",
       "      <th>dtadfile</th>\n",
       "      <th>occup</th>\n",
       "      <th>count</th>\n",
       "    </tr>\n",
       "  </thead>\n",
       "  <tbody>\n",
       "    <tr>\n",
       "      <th>0</th>\n",
       "      <td>4084316.0</td>\n",
       "      <td>2016.0</td>\n",
       "      <td>4.0</td>\n",
       "      <td>HHW</td>\n",
       "      <td>HI</td>\n",
       "      <td>20566.0</td>\n",
       "      <td>20573.0</td>\n",
       "      <td>1.0</td>\n",
       "      <td>United States</td>\n",
       "      <td>M</td>\n",
       "      <td>1</td>\n",
       "      <td>1</td>\n",
       "      <td>07202016</td>\n",
       "      <td>20160422</td>\n",
       "      <td>NaN</td>\n",
       "      <td>1.0</td>\n",
       "    </tr>\n",
       "    <tr>\n",
       "      <th>1</th>\n",
       "      <td>4422636.0</td>\n",
       "      <td>2016.0</td>\n",
       "      <td>4.0</td>\n",
       "      <td>MCA</td>\n",
       "      <td>TX</td>\n",
       "      <td>20567.0</td>\n",
       "      <td>20568.0</td>\n",
       "      <td>1.0</td>\n",
       "      <td>United States</td>\n",
       "      <td>M</td>\n",
       "      <td>1</td>\n",
       "      <td>2</td>\n",
       "      <td>10222016</td>\n",
       "      <td>20160423</td>\n",
       "      <td>NaN</td>\n",
       "      <td>1.0</td>\n",
       "    </tr>\n",
       "    <tr>\n",
       "      <th>2</th>\n",
       "      <td>1195600.0</td>\n",
       "      <td>2016.0</td>\n",
       "      <td>4.0</td>\n",
       "      <td>OGG</td>\n",
       "      <td>FL</td>\n",
       "      <td>20551.0</td>\n",
       "      <td>20571.0</td>\n",
       "      <td>1.0</td>\n",
       "      <td>United States</td>\n",
       "      <td>M</td>\n",
       "      <td>1</td>\n",
       "      <td>1</td>\n",
       "      <td>07052016</td>\n",
       "      <td>20160407</td>\n",
       "      <td>NaN</td>\n",
       "      <td>1.0</td>\n",
       "    </tr>\n",
       "    <tr>\n",
       "      <th>3</th>\n",
       "      <td>5291768.0</td>\n",
       "      <td>2016.0</td>\n",
       "      <td>4.0</td>\n",
       "      <td>LOS</td>\n",
       "      <td>CA</td>\n",
       "      <td>20572.0</td>\n",
       "      <td>20581.0</td>\n",
       "      <td>1.0</td>\n",
       "      <td>United States</td>\n",
       "      <td>M</td>\n",
       "      <td>1</td>\n",
       "      <td>1</td>\n",
       "      <td>10272016</td>\n",
       "      <td>20160428</td>\n",
       "      <td>NaN</td>\n",
       "      <td>1.0</td>\n",
       "    </tr>\n",
       "    <tr>\n",
       "      <th>4</th>\n",
       "      <td>985523.0</td>\n",
       "      <td>2016.0</td>\n",
       "      <td>4.0</td>\n",
       "      <td>CHM</td>\n",
       "      <td>NY</td>\n",
       "      <td>20550.0</td>\n",
       "      <td>20553.0</td>\n",
       "      <td>3.0</td>\n",
       "      <td>United States</td>\n",
       "      <td>M</td>\n",
       "      <td>2</td>\n",
       "      <td>3</td>\n",
       "      <td>07042016</td>\n",
       "      <td>20160406</td>\n",
       "      <td>NaN</td>\n",
       "      <td>1.0</td>\n",
       "    </tr>\n",
       "  </tbody>\n",
       "</table>\n",
       "</div>"
      ],
      "text/plain": [
       "      cic_id    year  month city_code state_code  arrival_date  \\\n",
       "0  4084316.0  2016.0    4.0       HHW         HI       20566.0   \n",
       "1  4422636.0  2016.0    4.0       MCA         TX       20567.0   \n",
       "2  1195600.0  2016.0    4.0       OGG         FL       20551.0   \n",
       "3  5291768.0  2016.0    4.0       LOS         CA       20572.0   \n",
       "4   985523.0  2016.0    4.0       CHM         NY       20550.0   \n",
       "\n",
       "   departure_date  mode        country matflag  entdepa_code  entdepd_code  \\\n",
       "0         20573.0   1.0  United States       M             1             1   \n",
       "1         20568.0   1.0  United States       M             1             2   \n",
       "2         20571.0   1.0  United States       M             1             1   \n",
       "3         20581.0   1.0  United States       M             1             1   \n",
       "4         20553.0   3.0  United States       M             2             3   \n",
       "\n",
       "    dtaddto  dtadfile occup  count  \n",
       "0  07202016  20160422   NaN    1.0  \n",
       "1  10222016  20160423   NaN    1.0  \n",
       "2  07052016  20160407   NaN    1.0  \n",
       "3  10272016  20160428   NaN    1.0  \n",
       "4  07042016  20160406   NaN    1.0  "
      ]
     },
     "execution_count": 102,
     "metadata": {},
     "output_type": "execute_result"
    }
   ],
   "source": [
    "fact_immigration.head(5)"
   ]
  },
  {
   "cell_type": "code",
   "execution_count": 2,
   "metadata": {
    "editable": true
   },
   "outputs": [],
   "source": [
    "import pandas as pd\n",
    "def to_datetime(date):\n",
    "    if date is not None:\n",
    "        return pd.Timestamp('1960-1-1')+pd.to_timedelta(date, unit='D')\n",
    "\n",
    "def to_datetime_from_mmddyyyy(date,format_str):\n",
    "    if date is not None:\n",
    "            date=pd.to_datetime(date,format=format_str,errors='coerce')\n",
    "            return date      "
   ]
  },
  {
   "cell_type": "code",
   "execution_count": 104,
   "metadata": {
    "editable": true
   },
   "outputs": [],
   "source": [
    "fact_immigration['dtaddto']=to_datetime_from_mmddyyyy(fact_immigration['dtaddto'],'%m%d%Y')\n",
    "fact_immigration['dtadfile']=to_datetime_from_mmddyyyy(fact_immigration['dtadfile'],'%Y%m%d')\n",
    "fact_immigration['arrival_date'] = to_datetime(fact_immigration['arrival_date'])\n",
    "fact_immigration['departure_date'] = to_datetime(fact_immigration['departure_date'])"
   ]
  },
  {
   "cell_type": "code",
   "execution_count": 105,
   "metadata": {
    "editable": true
   },
   "outputs": [
    {
     "data": {
      "text/html": [
       "<div>\n",
       "<style scoped>\n",
       "    .dataframe tbody tr th:only-of-type {\n",
       "        vertical-align: middle;\n",
       "    }\n",
       "\n",
       "    .dataframe tbody tr th {\n",
       "        vertical-align: top;\n",
       "    }\n",
       "\n",
       "    .dataframe thead th {\n",
       "        text-align: right;\n",
       "    }\n",
       "</style>\n",
       "<table border=\"1\" class=\"dataframe\">\n",
       "  <thead>\n",
       "    <tr style=\"text-align: right;\">\n",
       "      <th></th>\n",
       "      <th>cic_id</th>\n",
       "      <th>year</th>\n",
       "      <th>month</th>\n",
       "      <th>city_code</th>\n",
       "      <th>state_code</th>\n",
       "      <th>arrival_date</th>\n",
       "      <th>departure_date</th>\n",
       "      <th>mode</th>\n",
       "      <th>country</th>\n",
       "      <th>matflag</th>\n",
       "      <th>entdepa_code</th>\n",
       "      <th>entdepd_code</th>\n",
       "      <th>dtaddto</th>\n",
       "      <th>dtadfile</th>\n",
       "      <th>occup</th>\n",
       "      <th>count</th>\n",
       "    </tr>\n",
       "  </thead>\n",
       "  <tbody>\n",
       "    <tr>\n",
       "      <th>0</th>\n",
       "      <td>4084316.0</td>\n",
       "      <td>2016.0</td>\n",
       "      <td>4.0</td>\n",
       "      <td>HHW</td>\n",
       "      <td>HI</td>\n",
       "      <td>2016-04-22</td>\n",
       "      <td>2016-04-29</td>\n",
       "      <td>1.0</td>\n",
       "      <td>United States</td>\n",
       "      <td>M</td>\n",
       "      <td>1</td>\n",
       "      <td>1</td>\n",
       "      <td>2016-07-20</td>\n",
       "      <td>2016-04-22</td>\n",
       "      <td>NaN</td>\n",
       "      <td>1.0</td>\n",
       "    </tr>\n",
       "    <tr>\n",
       "      <th>1</th>\n",
       "      <td>4422636.0</td>\n",
       "      <td>2016.0</td>\n",
       "      <td>4.0</td>\n",
       "      <td>MCA</td>\n",
       "      <td>TX</td>\n",
       "      <td>2016-04-23</td>\n",
       "      <td>2016-04-24</td>\n",
       "      <td>1.0</td>\n",
       "      <td>United States</td>\n",
       "      <td>M</td>\n",
       "      <td>1</td>\n",
       "      <td>2</td>\n",
       "      <td>2016-10-22</td>\n",
       "      <td>2016-04-23</td>\n",
       "      <td>NaN</td>\n",
       "      <td>1.0</td>\n",
       "    </tr>\n",
       "    <tr>\n",
       "      <th>2</th>\n",
       "      <td>1195600.0</td>\n",
       "      <td>2016.0</td>\n",
       "      <td>4.0</td>\n",
       "      <td>OGG</td>\n",
       "      <td>FL</td>\n",
       "      <td>2016-04-07</td>\n",
       "      <td>2016-04-27</td>\n",
       "      <td>1.0</td>\n",
       "      <td>United States</td>\n",
       "      <td>M</td>\n",
       "      <td>1</td>\n",
       "      <td>1</td>\n",
       "      <td>2016-07-05</td>\n",
       "      <td>2016-04-07</td>\n",
       "      <td>NaN</td>\n",
       "      <td>1.0</td>\n",
       "    </tr>\n",
       "    <tr>\n",
       "      <th>3</th>\n",
       "      <td>5291768.0</td>\n",
       "      <td>2016.0</td>\n",
       "      <td>4.0</td>\n",
       "      <td>LOS</td>\n",
       "      <td>CA</td>\n",
       "      <td>2016-04-28</td>\n",
       "      <td>2016-05-07</td>\n",
       "      <td>1.0</td>\n",
       "      <td>United States</td>\n",
       "      <td>M</td>\n",
       "      <td>1</td>\n",
       "      <td>1</td>\n",
       "      <td>2016-10-27</td>\n",
       "      <td>2016-04-28</td>\n",
       "      <td>NaN</td>\n",
       "      <td>1.0</td>\n",
       "    </tr>\n",
       "    <tr>\n",
       "      <th>4</th>\n",
       "      <td>985523.0</td>\n",
       "      <td>2016.0</td>\n",
       "      <td>4.0</td>\n",
       "      <td>CHM</td>\n",
       "      <td>NY</td>\n",
       "      <td>2016-04-06</td>\n",
       "      <td>2016-04-09</td>\n",
       "      <td>3.0</td>\n",
       "      <td>United States</td>\n",
       "      <td>M</td>\n",
       "      <td>2</td>\n",
       "      <td>3</td>\n",
       "      <td>2016-07-04</td>\n",
       "      <td>2016-04-06</td>\n",
       "      <td>NaN</td>\n",
       "      <td>1.0</td>\n",
       "    </tr>\n",
       "  </tbody>\n",
       "</table>\n",
       "</div>"
      ],
      "text/plain": [
       "      cic_id    year  month city_code state_code arrival_date departure_date  \\\n",
       "0  4084316.0  2016.0    4.0       HHW         HI   2016-04-22     2016-04-29   \n",
       "1  4422636.0  2016.0    4.0       MCA         TX   2016-04-23     2016-04-24   \n",
       "2  1195600.0  2016.0    4.0       OGG         FL   2016-04-07     2016-04-27   \n",
       "3  5291768.0  2016.0    4.0       LOS         CA   2016-04-28     2016-05-07   \n",
       "4   985523.0  2016.0    4.0       CHM         NY   2016-04-06     2016-04-09   \n",
       "\n",
       "   mode        country matflag  entdepa_code  entdepd_code    dtaddto  \\\n",
       "0   1.0  United States       M             1             1 2016-07-20   \n",
       "1   1.0  United States       M             1             2 2016-10-22   \n",
       "2   1.0  United States       M             1             1 2016-07-05   \n",
       "3   1.0  United States       M             1             1 2016-10-27   \n",
       "4   3.0  United States       M             2             3 2016-07-04   \n",
       "\n",
       "    dtadfile occup  count  \n",
       "0 2016-04-22   NaN    1.0  \n",
       "1 2016-04-23   NaN    1.0  \n",
       "2 2016-04-07   NaN    1.0  \n",
       "3 2016-04-28   NaN    1.0  \n",
       "4 2016-04-06   NaN    1.0  "
      ]
     },
     "execution_count": 105,
     "metadata": {},
     "output_type": "execute_result"
    }
   ],
   "source": [
    "fact_immigration.head(5)"
   ]
  },
  {
   "cell_type": "code",
   "execution_count": 106,
   "metadata": {
    "editable": true
   },
   "outputs": [
    {
     "data": {
      "text/html": [
       "<div>\n",
       "<style scoped>\n",
       "    .dataframe tbody tr th:only-of-type {\n",
       "        vertical-align: middle;\n",
       "    }\n",
       "\n",
       "    .dataframe tbody tr th {\n",
       "        vertical-align: top;\n",
       "    }\n",
       "\n",
       "    .dataframe thead th {\n",
       "        text-align: right;\n",
       "    }\n",
       "</style>\n",
       "<table border=\"1\" class=\"dataframe\">\n",
       "  <thead>\n",
       "    <tr style=\"text-align: right;\">\n",
       "      <th></th>\n",
       "      <th>visa_type</th>\n",
       "      <th>visa</th>\n",
       "    </tr>\n",
       "  </thead>\n",
       "  <tbody>\n",
       "    <tr>\n",
       "      <th>0</th>\n",
       "      <td>B1</td>\n",
       "      <td>1.0</td>\n",
       "    </tr>\n",
       "    <tr>\n",
       "      <th>1</th>\n",
       "      <td>WT</td>\n",
       "      <td>2.0</td>\n",
       "    </tr>\n",
       "    <tr>\n",
       "      <th>2</th>\n",
       "      <td>E2</td>\n",
       "      <td>1.0</td>\n",
       "    </tr>\n",
       "    <tr>\n",
       "      <th>3</th>\n",
       "      <td>I1</td>\n",
       "      <td>1.0</td>\n",
       "    </tr>\n",
       "    <tr>\n",
       "      <th>4</th>\n",
       "      <td>M2</td>\n",
       "      <td>3.0</td>\n",
       "    </tr>\n",
       "    <tr>\n",
       "      <th>5</th>\n",
       "      <td>CPL</td>\n",
       "      <td>2.0</td>\n",
       "    </tr>\n",
       "    <tr>\n",
       "      <th>6</th>\n",
       "      <td>E1</td>\n",
       "      <td>1.0</td>\n",
       "    </tr>\n",
       "    <tr>\n",
       "      <th>7</th>\n",
       "      <td>M1</td>\n",
       "      <td>3.0</td>\n",
       "    </tr>\n",
       "    <tr>\n",
       "      <th>8</th>\n",
       "      <td>F1</td>\n",
       "      <td>3.0</td>\n",
       "    </tr>\n",
       "    <tr>\n",
       "      <th>9</th>\n",
       "      <td>GMB</td>\n",
       "      <td>1.0</td>\n",
       "    </tr>\n",
       "    <tr>\n",
       "      <th>10</th>\n",
       "      <td>GMT</td>\n",
       "      <td>2.0</td>\n",
       "    </tr>\n",
       "    <tr>\n",
       "      <th>11</th>\n",
       "      <td>CP</td>\n",
       "      <td>2.0</td>\n",
       "    </tr>\n",
       "    <tr>\n",
       "      <th>12</th>\n",
       "      <td>F2</td>\n",
       "      <td>3.0</td>\n",
       "    </tr>\n",
       "    <tr>\n",
       "      <th>13</th>\n",
       "      <td>WB</td>\n",
       "      <td>1.0</td>\n",
       "    </tr>\n",
       "    <tr>\n",
       "      <th>14</th>\n",
       "      <td>I</td>\n",
       "      <td>1.0</td>\n",
       "    </tr>\n",
       "    <tr>\n",
       "      <th>15</th>\n",
       "      <td>SBP</td>\n",
       "      <td>2.0</td>\n",
       "    </tr>\n",
       "    <tr>\n",
       "      <th>16</th>\n",
       "      <td>B2</td>\n",
       "      <td>2.0</td>\n",
       "    </tr>\n",
       "  </tbody>\n",
       "</table>\n",
       "</div>"
      ],
      "text/plain": [
       "   visa_type  visa\n",
       "0         B1   1.0\n",
       "1         WT   2.0\n",
       "2         E2   1.0\n",
       "3         I1   1.0\n",
       "4         M2   3.0\n",
       "5        CPL   2.0\n",
       "6         E1   1.0\n",
       "7         M1   3.0\n",
       "8         F1   3.0\n",
       "9        GMB   1.0\n",
       "10       GMT   2.0\n",
       "11        CP   2.0\n",
       "12        F2   3.0\n",
       "13        WB   1.0\n",
       "14         I   1.0\n",
       "15       SBP   2.0\n",
       "16        B2   2.0"
      ]
     },
     "execution_count": 106,
     "metadata": {},
     "output_type": "execute_result"
    }
   ],
   "source": [
    "data = {'visa_type':['B1','WT','E2','I1','M2','CPL','E1','M1','F1','GMB','GMT','CP','F2','WB','I','SBP','B2'],\n",
    "        'visa':[1.0,2.0,1.0,1.0,3.0,2.0,1.0,3.0,3.0,1.0,2.0,2.0,3.0,1.0,1.0,2.0,2.0]}\n",
    "dim_immigration_visa=pd.DataFrame(data)\n",
    "dim_immigration_visa"
   ]
  },
  {
   "cell_type": "code",
   "execution_count": 107,
   "metadata": {
    "editable": true
   },
   "outputs": [
    {
     "data": {
      "text/html": [
       "<div>\n",
       "<style scoped>\n",
       "    .dataframe tbody tr th:only-of-type {\n",
       "        vertical-align: middle;\n",
       "    }\n",
       "\n",
       "    .dataframe tbody tr th {\n",
       "        vertical-align: top;\n",
       "    }\n",
       "\n",
       "    .dataframe thead th {\n",
       "        text-align: right;\n",
       "    }\n",
       "</style>\n",
       "<table border=\"1\" class=\"dataframe\">\n",
       "  <thead>\n",
       "    <tr style=\"text-align: right;\">\n",
       "      <th></th>\n",
       "      <th>cic_id</th>\n",
       "      <th>country_residence</th>\n",
       "      <th>country_citizenship</th>\n",
       "      <th>birth_year</th>\n",
       "      <th>gender</th>\n",
       "      <th>ins_num</th>\n",
       "    </tr>\n",
       "  </thead>\n",
       "  <tbody>\n",
       "    <tr>\n",
       "      <th>0</th>\n",
       "      <td>4084316.0</td>\n",
       "      <td>209.0</td>\n",
       "      <td>209.0</td>\n",
       "      <td>1955.0</td>\n",
       "      <td>F</td>\n",
       "      <td>NaN</td>\n",
       "    </tr>\n",
       "    <tr>\n",
       "      <th>1</th>\n",
       "      <td>4422636.0</td>\n",
       "      <td>582.0</td>\n",
       "      <td>582.0</td>\n",
       "      <td>1990.0</td>\n",
       "      <td>M</td>\n",
       "      <td>NaN</td>\n",
       "    </tr>\n",
       "    <tr>\n",
       "      <th>2</th>\n",
       "      <td>1195600.0</td>\n",
       "      <td>112.0</td>\n",
       "      <td>148.0</td>\n",
       "      <td>1940.0</td>\n",
       "      <td>M</td>\n",
       "      <td>NaN</td>\n",
       "    </tr>\n",
       "    <tr>\n",
       "      <th>3</th>\n",
       "      <td>5291768.0</td>\n",
       "      <td>297.0</td>\n",
       "      <td>297.0</td>\n",
       "      <td>1991.0</td>\n",
       "      <td>M</td>\n",
       "      <td>NaN</td>\n",
       "    </tr>\n",
       "    <tr>\n",
       "      <th>4</th>\n",
       "      <td>985523.0</td>\n",
       "      <td>111.0</td>\n",
       "      <td>111.0</td>\n",
       "      <td>1997.0</td>\n",
       "      <td>F</td>\n",
       "      <td>NaN</td>\n",
       "    </tr>\n",
       "  </tbody>\n",
       "</table>\n",
       "</div>"
      ],
      "text/plain": [
       "      cic_id  country_residence  country_citizenship  birth_year gender  \\\n",
       "0  4084316.0              209.0                209.0      1955.0      F   \n",
       "1  4422636.0              582.0                582.0      1990.0      M   \n",
       "2  1195600.0              112.0                148.0      1940.0      M   \n",
       "3  5291768.0              297.0                297.0      1991.0      M   \n",
       "4   985523.0              111.0                111.0      1997.0      F   \n",
       "\n",
       "   ins_num  \n",
       "0      NaN  \n",
       "1      NaN  \n",
       "2      NaN  \n",
       "3      NaN  \n",
       "4      NaN  "
      ]
     },
     "execution_count": 107,
     "metadata": {},
     "output_type": "execute_result"
    }
   ],
   "source": [
    "dim_immigration_personal = df_immigration[['cicid', 'i94res', 'i94cit', 'biryear', 'gender', 'insnum']]\n",
    "dim_immigration_personal.columns = ['cic_id', 'country_residence', 'country_citizenship', 'birth_year', 'gender', 'ins_num']\n",
    "dim_immigration_personal.head(5)"
   ]
  },
  {
   "cell_type": "code",
   "execution_count": 108,
   "metadata": {
    "editable": true
   },
   "outputs": [
    {
     "data": {
      "text/html": [
       "<div>\n",
       "<style scoped>\n",
       "    .dataframe tbody tr th:only-of-type {\n",
       "        vertical-align: middle;\n",
       "    }\n",
       "\n",
       "    .dataframe tbody tr th {\n",
       "        vertical-align: top;\n",
       "    }\n",
       "\n",
       "    .dataframe thead th {\n",
       "        text-align: right;\n",
       "    }\n",
       "</style>\n",
       "<table border=\"1\" class=\"dataframe\">\n",
       "  <thead>\n",
       "    <tr style=\"text-align: right;\">\n",
       "      <th></th>\n",
       "      <th>cic_id</th>\n",
       "      <th>airline</th>\n",
       "      <th>admin_num</th>\n",
       "      <th>flight_number</th>\n",
       "      <th>visa_type</th>\n",
       "      <th>visapost</th>\n",
       "    </tr>\n",
       "  </thead>\n",
       "  <tbody>\n",
       "    <tr>\n",
       "      <th>0</th>\n",
       "      <td>4084316.0</td>\n",
       "      <td>JL</td>\n",
       "      <td>5.658267e+10</td>\n",
       "      <td>00782</td>\n",
       "      <td>WT</td>\n",
       "      <td>NaN</td>\n",
       "    </tr>\n",
       "    <tr>\n",
       "      <th>1</th>\n",
       "      <td>4422636.0</td>\n",
       "      <td>*GA</td>\n",
       "      <td>9.436200e+10</td>\n",
       "      <td>XBLNG</td>\n",
       "      <td>B2</td>\n",
       "      <td>MTR</td>\n",
       "    </tr>\n",
       "    <tr>\n",
       "      <th>2</th>\n",
       "      <td>1195600.0</td>\n",
       "      <td>LH</td>\n",
       "      <td>5.578047e+10</td>\n",
       "      <td>00464</td>\n",
       "      <td>WT</td>\n",
       "      <td>NaN</td>\n",
       "    </tr>\n",
       "    <tr>\n",
       "      <th>3</th>\n",
       "      <td>5291768.0</td>\n",
       "      <td>QR</td>\n",
       "      <td>9.478970e+10</td>\n",
       "      <td>00739</td>\n",
       "      <td>B2</td>\n",
       "      <td>DOH</td>\n",
       "    </tr>\n",
       "    <tr>\n",
       "      <th>4</th>\n",
       "      <td>985523.0</td>\n",
       "      <td>NaN</td>\n",
       "      <td>4.232257e+10</td>\n",
       "      <td>LAND</td>\n",
       "      <td>WT</td>\n",
       "      <td>NaN</td>\n",
       "    </tr>\n",
       "  </tbody>\n",
       "</table>\n",
       "</div>"
      ],
      "text/plain": [
       "      cic_id airline     admin_num flight_number visa_type visapost\n",
       "0  4084316.0      JL  5.658267e+10         00782        WT      NaN\n",
       "1  4422636.0     *GA  9.436200e+10         XBLNG        B2      MTR\n",
       "2  1195600.0      LH  5.578047e+10         00464        WT      NaN\n",
       "3  5291768.0      QR  9.478970e+10         00739        B2      DOH\n",
       "4   985523.0     NaN  4.232257e+10          LAND        WT      NaN"
      ]
     },
     "execution_count": 108,
     "metadata": {},
     "output_type": "execute_result"
    }
   ],
   "source": [
    "dim_immigration_airline = df_immigration[['cicid', 'airline', 'admnum', 'fltno', 'visatype','visapost']]\n",
    "dim_immigration_airline.columns = ['cic_id', 'airline', 'admin_num', 'flight_number', 'visa_type','visapost']  \n",
    "dim_immigration_airline.head(5)"
   ]
  },
  {
   "cell_type": "code",
   "execution_count": 23,
   "metadata": {
    "editable": true
   },
   "outputs": [
    {
     "data": {
      "text/html": [
       "<div>\n",
       "<style scoped>\n",
       "    .dataframe tbody tr th:only-of-type {\n",
       "        vertical-align: middle;\n",
       "    }\n",
       "\n",
       "    .dataframe tbody tr th {\n",
       "        vertical-align: top;\n",
       "    }\n",
       "\n",
       "    .dataframe thead th {\n",
       "        text-align: right;\n",
       "    }\n",
       "</style>\n",
       "<table border=\"1\" class=\"dataframe\">\n",
       "  <thead>\n",
       "    <tr style=\"text-align: right;\">\n",
       "      <th></th>\n",
       "      <th>dt</th>\n",
       "      <th>AverageTemperature</th>\n",
       "      <th>AverageTemperatureUncertainty</th>\n",
       "      <th>City</th>\n",
       "      <th>Country</th>\n",
       "      <th>Latitude</th>\n",
       "      <th>Longitude</th>\n",
       "    </tr>\n",
       "  </thead>\n",
       "  <tbody>\n",
       "    <tr>\n",
       "      <th>47555</th>\n",
       "      <td>1820-01-01</td>\n",
       "      <td>2.101</td>\n",
       "      <td>3.217</td>\n",
       "      <td>Abilene</td>\n",
       "      <td>United States</td>\n",
       "      <td>32.95N</td>\n",
       "      <td>100.53W</td>\n",
       "    </tr>\n",
       "    <tr>\n",
       "      <th>47556</th>\n",
       "      <td>1820-02-01</td>\n",
       "      <td>6.926</td>\n",
       "      <td>2.853</td>\n",
       "      <td>Abilene</td>\n",
       "      <td>United States</td>\n",
       "      <td>32.95N</td>\n",
       "      <td>100.53W</td>\n",
       "    </tr>\n",
       "    <tr>\n",
       "      <th>47557</th>\n",
       "      <td>1820-03-01</td>\n",
       "      <td>10.767</td>\n",
       "      <td>2.395</td>\n",
       "      <td>Abilene</td>\n",
       "      <td>United States</td>\n",
       "      <td>32.95N</td>\n",
       "      <td>100.53W</td>\n",
       "    </tr>\n",
       "    <tr>\n",
       "      <th>47558</th>\n",
       "      <td>1820-04-01</td>\n",
       "      <td>17.989</td>\n",
       "      <td>2.202</td>\n",
       "      <td>Abilene</td>\n",
       "      <td>United States</td>\n",
       "      <td>32.95N</td>\n",
       "      <td>100.53W</td>\n",
       "    </tr>\n",
       "    <tr>\n",
       "      <th>47559</th>\n",
       "      <td>1820-05-01</td>\n",
       "      <td>21.809</td>\n",
       "      <td>2.036</td>\n",
       "      <td>Abilene</td>\n",
       "      <td>United States</td>\n",
       "      <td>32.95N</td>\n",
       "      <td>100.53W</td>\n",
       "    </tr>\n",
       "  </tbody>\n",
       "</table>\n",
       "</div>"
      ],
      "text/plain": [
       "               dt  AverageTemperature  AverageTemperatureUncertainty     City  \\\n",
       "47555  1820-01-01               2.101                          3.217  Abilene   \n",
       "47556  1820-02-01               6.926                          2.853  Abilene   \n",
       "47557  1820-03-01              10.767                          2.395  Abilene   \n",
       "47558  1820-04-01              17.989                          2.202  Abilene   \n",
       "47559  1820-05-01              21.809                          2.036  Abilene   \n",
       "\n",
       "             Country Latitude Longitude  \n",
       "47555  United States   32.95N   100.53W  \n",
       "47556  United States   32.95N   100.53W  \n",
       "47557  United States   32.95N   100.53W  \n",
       "47558  United States   32.95N   100.53W  \n",
       "47559  United States   32.95N   100.53W  "
      ]
     },
     "execution_count": 23,
     "metadata": {},
     "output_type": "execute_result"
    }
   ],
   "source": [
    "fname = '../../data2/GlobalLandTemperaturesByCity.csv'\n",
    "df_temperature = pd.read_csv(fname)\n",
    "df_temperature=df_temperature[df_temperature['Country']=='United States']\n",
    "df_temperature.head(5)"
   ]
  },
  {
   "cell_type": "code",
   "execution_count": 24,
   "metadata": {
    "editable": true
   },
   "outputs": [
    {
     "name": "stderr",
     "output_type": "stream",
     "text": [
      "/opt/conda/lib/python3.6/site-packages/ipykernel_launcher.py:2: SettingWithCopyWarning: \n",
      "A value is trying to be set on a copy of a slice from a DataFrame\n",
      "\n",
      "See the caveats in the documentation: http://pandas.pydata.org/pandas-docs/stable/indexing.html#indexing-view-versus-copy\n",
      "  \n",
      "/opt/conda/lib/python3.6/site-packages/pandas/core/indexing.py:189: SettingWithCopyWarning: \n",
      "A value is trying to be set on a copy of a slice from a DataFrame\n",
      "\n",
      "See the caveats in the documentation: http://pandas.pydata.org/pandas-docs/stable/indexing.html#indexing-view-versus-copy\n",
      "  self._setitem_with_indexer(indexer, value)\n",
      "/opt/conda/lib/python3.6/site-packages/ipykernel_launcher.py:4: SettingWithCopyWarning: \n",
      "A value is trying to be set on a copy of a slice from a DataFrame\n",
      "\n",
      "See the caveats in the documentation: http://pandas.pydata.org/pandas-docs/stable/indexing.html#indexing-view-versus-copy\n",
      "  after removing the cwd from sys.path.\n",
      "/opt/conda/lib/python3.6/site-packages/ipykernel_launcher.py:5: SettingWithCopyWarning: \n",
      "A value is trying to be set on a copy of a slice from a DataFrame\n",
      "\n",
      "See the caveats in the documentation: http://pandas.pydata.org/pandas-docs/stable/indexing.html#indexing-view-versus-copy\n",
      "  \"\"\"\n",
      "/opt/conda/lib/python3.6/site-packages/ipykernel_launcher.py:6: SettingWithCopyWarning: \n",
      "A value is trying to be set on a copy of a slice from a DataFrame\n",
      "\n",
      "See the caveats in the documentation: http://pandas.pydata.org/pandas-docs/stable/indexing.html#indexing-view-versus-copy\n",
      "  \n",
      "/opt/conda/lib/python3.6/site-packages/ipykernel_launcher.py:7: SettingWithCopyWarning: \n",
      "A value is trying to be set on a copy of a slice from a DataFrame\n",
      "\n",
      "See the caveats in the documentation: http://pandas.pydata.org/pandas-docs/stable/indexing.html#indexing-view-versus-copy\n",
      "  import sys\n",
      "/opt/conda/lib/python3.6/site-packages/ipykernel_launcher.py:9: SettingWithCopyWarning: \n",
      "A value is trying to be set on a copy of a slice from a DataFrame.\n",
      "Try using .loc[row_indexer,col_indexer] = value instead\n",
      "\n",
      "See the caveats in the documentation: http://pandas.pydata.org/pandas-docs/stable/indexing.html#indexing-view-versus-copy\n",
      "  if __name__ == '__main__':\n"
     ]
    },
    {
     "data": {
      "text/html": [
       "<div>\n",
       "<style scoped>\n",
       "    .dataframe tbody tr th:only-of-type {\n",
       "        vertical-align: middle;\n",
       "    }\n",
       "\n",
       "    .dataframe tbody tr th {\n",
       "        vertical-align: top;\n",
       "    }\n",
       "\n",
       "    .dataframe thead th {\n",
       "        text-align: right;\n",
       "    }\n",
       "</style>\n",
       "<table border=\"1\" class=\"dataframe\">\n",
       "  <thead>\n",
       "    <tr style=\"text-align: right;\">\n",
       "      <th></th>\n",
       "      <th>city</th>\n",
       "      <th>latitude</th>\n",
       "      <th>longitude</th>\n",
       "    </tr>\n",
       "  </thead>\n",
       "  <tbody>\n",
       "    <tr>\n",
       "      <th>0</th>\n",
       "      <td>ABILENE</td>\n",
       "      <td>32.95</td>\n",
       "      <td>-100.53</td>\n",
       "    </tr>\n",
       "    <tr>\n",
       "      <th>1</th>\n",
       "      <td>AKRON</td>\n",
       "      <td>40.99</td>\n",
       "      <td>-80.95</td>\n",
       "    </tr>\n",
       "    <tr>\n",
       "      <th>2</th>\n",
       "      <td>ALBUQUERQUE</td>\n",
       "      <td>34.56</td>\n",
       "      <td>-107.03</td>\n",
       "    </tr>\n",
       "    <tr>\n",
       "      <th>3</th>\n",
       "      <td>ALEXANDRIA</td>\n",
       "      <td>39.38</td>\n",
       "      <td>-76.99</td>\n",
       "    </tr>\n",
       "    <tr>\n",
       "      <th>4</th>\n",
       "      <td>ALLENTOWN</td>\n",
       "      <td>40.99</td>\n",
       "      <td>-74.56</td>\n",
       "    </tr>\n",
       "  </tbody>\n",
       "</table>\n",
       "</div>"
      ],
      "text/plain": [
       "          city latitude longitude\n",
       "0      ABILENE    32.95   -100.53\n",
       "1        AKRON    40.99    -80.95\n",
       "2  ALBUQUERQUE    34.56   -107.03\n",
       "3   ALEXANDRIA    39.38    -76.99\n",
       "4    ALLENTOWN    40.99    -74.56"
      ]
     },
     "execution_count": 24,
     "metadata": {},
     "output_type": "execute_result"
    }
   ],
   "source": [
    "dim_temperature_city=df_temperature[['City','Latitude','Longitude']]\n",
    "dim_temperature_city.drop_duplicates(subset=['City'],keep='first',inplace = True)\n",
    "dim_temperature_city.reset_index(drop=True, inplace=True)\n",
    "dim_temperature_city.loc[dim_temperature_city['Latitude'].str[-1:]=='N','Latitude']=dim_temperature_city['Latitude'].str[:-1]\n",
    "dim_temperature_city.loc[dim_temperature_city['Latitude'].str[-1:]=='S','Latitude']='-'+dim_temperature_city['Latitude'].str[:-1]\n",
    "dim_temperature_city.loc[dim_temperature_city['Longitude'].str[-1:]=='W','Longitude']='-'+dim_temperature_city['Longitude'].str[:-1]\n",
    "dim_temperature_city.loc[dim_temperature_city['Longitude'].str[-1:]=='E','Longitude']=dim_temperature_city['Longitude'].str[:-1]\n",
    "dim_temperature_city.columns=['city','latitude','longitude']\n",
    "dim_temperature_city['city'] = dim_temperature_city['city'].str.upper()\n",
    "dim_temperature_city.head(5)"
   ]
  },
  {
   "cell_type": "code",
   "execution_count": 17,
   "metadata": {
    "editable": true
   },
   "outputs": [
    {
     "data": {
      "text/html": [
       "<div>\n",
       "<style scoped>\n",
       "    .dataframe tbody tr th:only-of-type {\n",
       "        vertical-align: middle;\n",
       "    }\n",
       "\n",
       "    .dataframe tbody tr th {\n",
       "        vertical-align: top;\n",
       "    }\n",
       "\n",
       "    .dataframe thead th {\n",
       "        text-align: right;\n",
       "    }\n",
       "</style>\n",
       "<table border=\"1\" class=\"dataframe\">\n",
       "  <thead>\n",
       "    <tr style=\"text-align: right;\">\n",
       "      <th></th>\n",
       "      <th>date</th>\n",
       "      <th>avg_temp</th>\n",
       "      <th>avg_temp_var</th>\n",
       "      <th>city_code</th>\n",
       "      <th>country</th>\n",
       "      <th>year</th>\n",
       "      <th>month</th>\n",
       "    </tr>\n",
       "  </thead>\n",
       "  <tbody>\n",
       "    <tr>\n",
       "      <th>0</th>\n",
       "      <td>1820-01-01</td>\n",
       "      <td>2.101</td>\n",
       "      <td>3.217</td>\n",
       "      <td>Abilene</td>\n",
       "      <td>United States</td>\n",
       "      <td>1820</td>\n",
       "      <td>1</td>\n",
       "    </tr>\n",
       "    <tr>\n",
       "      <th>1</th>\n",
       "      <td>1820-02-01</td>\n",
       "      <td>6.926</td>\n",
       "      <td>2.853</td>\n",
       "      <td>Abilene</td>\n",
       "      <td>United States</td>\n",
       "      <td>1820</td>\n",
       "      <td>2</td>\n",
       "    </tr>\n",
       "    <tr>\n",
       "      <th>2</th>\n",
       "      <td>1820-03-01</td>\n",
       "      <td>10.767</td>\n",
       "      <td>2.395</td>\n",
       "      <td>Abilene</td>\n",
       "      <td>United States</td>\n",
       "      <td>1820</td>\n",
       "      <td>3</td>\n",
       "    </tr>\n",
       "    <tr>\n",
       "      <th>3</th>\n",
       "      <td>1820-04-01</td>\n",
       "      <td>17.989</td>\n",
       "      <td>2.202</td>\n",
       "      <td>Abilene</td>\n",
       "      <td>United States</td>\n",
       "      <td>1820</td>\n",
       "      <td>4</td>\n",
       "    </tr>\n",
       "    <tr>\n",
       "      <th>4</th>\n",
       "      <td>1820-05-01</td>\n",
       "      <td>21.809</td>\n",
       "      <td>2.036</td>\n",
       "      <td>Abilene</td>\n",
       "      <td>United States</td>\n",
       "      <td>1820</td>\n",
       "      <td>5</td>\n",
       "    </tr>\n",
       "  </tbody>\n",
       "</table>\n",
       "</div>"
      ],
      "text/plain": [
       "        date  avg_temp  avg_temp_var city_code        country  year  month\n",
       "0 1820-01-01     2.101         3.217   Abilene  United States  1820      1\n",
       "1 1820-02-01     6.926         2.853   Abilene  United States  1820      2\n",
       "2 1820-03-01    10.767         2.395   Abilene  United States  1820      3\n",
       "3 1820-04-01    17.989         2.202   Abilene  United States  1820      4\n",
       "4 1820-05-01    21.809         2.036   Abilene  United States  1820      5"
      ]
     },
     "execution_count": 17,
     "metadata": {},
     "output_type": "execute_result"
    }
   ],
   "source": [
    "dim_temperature_usa=df_temperature[['dt','AverageTemperature','AverageTemperatureUncertainty','City','Country']].reset_index(drop=True)\n",
    "dim_temperature_usa['dt'] = pd.to_datetime(dim_temperature_usa['dt'])\n",
    "dim_temperature_usa['year'] = dim_temperature_usa['dt'].apply(lambda t: t.year)\n",
    "dim_temperature_usa['month'] = dim_temperature_usa['dt'].apply(lambda t: t.month)\n",
    "dim_temperature_usa.columns=['date','avg_temp','avg_temp_var','city_code','country','year','month']\n",
    "dim_temperature_usa.head(5)"
   ]
  },
  {
   "cell_type": "code",
   "execution_count": 18,
   "metadata": {
    "editable": true
   },
   "outputs": [
    {
     "data": {
      "text/html": [
       "<div>\n",
       "<style scoped>\n",
       "    .dataframe tbody tr th:only-of-type {\n",
       "        vertical-align: middle;\n",
       "    }\n",
       "\n",
       "    .dataframe tbody tr th {\n",
       "        vertical-align: top;\n",
       "    }\n",
       "\n",
       "    .dataframe thead th {\n",
       "        text-align: right;\n",
       "    }\n",
       "</style>\n",
       "<table border=\"1\" class=\"dataframe\">\n",
       "  <thead>\n",
       "    <tr style=\"text-align: right;\">\n",
       "      <th></th>\n",
       "      <th>date</th>\n",
       "      <th>avg_temp</th>\n",
       "      <th>avg_temp_var</th>\n",
       "      <th>city_code</th>\n",
       "      <th>country</th>\n",
       "      <th>year</th>\n",
       "      <th>month</th>\n",
       "    </tr>\n",
       "  </thead>\n",
       "  <tbody>\n",
       "  </tbody>\n",
       "</table>\n",
       "</div>"
      ],
      "text/plain": [
       "Empty DataFrame\n",
       "Columns: [date, avg_temp, avg_temp_var, city_code, country, year, month]\n",
       "Index: []"
      ]
     },
     "execution_count": 18,
     "metadata": {},
     "output_type": "execute_result"
    }
   ],
   "source": [
    "dim_temperature_usa_2014 = dim_temperature_usa[dim_temperature_usa['year'] == 2014]\n",
    "dim_temperature_usa_2014.head(5)"
   ]
  },
  {
   "cell_type": "code",
   "execution_count": 49,
   "metadata": {
    "editable": true
   },
   "outputs": [
    {
     "data": {
      "text/html": [
       "<div>\n",
       "<style scoped>\n",
       "    .dataframe tbody tr th:only-of-type {\n",
       "        vertical-align: middle;\n",
       "    }\n",
       "\n",
       "    .dataframe tbody tr th {\n",
       "        vertical-align: top;\n",
       "    }\n",
       "\n",
       "    .dataframe thead th {\n",
       "        text-align: right;\n",
       "    }\n",
       "</style>\n",
       "<table border=\"1\" class=\"dataframe\">\n",
       "  <thead>\n",
       "    <tr style=\"text-align: right;\">\n",
       "      <th></th>\n",
       "      <th>City</th>\n",
       "      <th>State</th>\n",
       "      <th>Median Age</th>\n",
       "      <th>Male Population</th>\n",
       "      <th>Female Population</th>\n",
       "      <th>Total Population</th>\n",
       "      <th>Number of Veterans</th>\n",
       "      <th>Foreign-born</th>\n",
       "      <th>Average Household Size</th>\n",
       "      <th>State Code</th>\n",
       "      <th>Race</th>\n",
       "      <th>Count</th>\n",
       "    </tr>\n",
       "  </thead>\n",
       "  <tbody>\n",
       "    <tr>\n",
       "      <th>0</th>\n",
       "      <td>Silver Spring</td>\n",
       "      <td>Maryland</td>\n",
       "      <td>33.8</td>\n",
       "      <td>40601.0</td>\n",
       "      <td>41862.0</td>\n",
       "      <td>82463</td>\n",
       "      <td>1562.0</td>\n",
       "      <td>30908.0</td>\n",
       "      <td>2.60</td>\n",
       "      <td>MD</td>\n",
       "      <td>Hispanic or Latino</td>\n",
       "      <td>25924</td>\n",
       "    </tr>\n",
       "    <tr>\n",
       "      <th>1</th>\n",
       "      <td>Quincy</td>\n",
       "      <td>Massachusetts</td>\n",
       "      <td>41.0</td>\n",
       "      <td>44129.0</td>\n",
       "      <td>49500.0</td>\n",
       "      <td>93629</td>\n",
       "      <td>4147.0</td>\n",
       "      <td>32935.0</td>\n",
       "      <td>2.39</td>\n",
       "      <td>MA</td>\n",
       "      <td>White</td>\n",
       "      <td>58723</td>\n",
       "    </tr>\n",
       "    <tr>\n",
       "      <th>2</th>\n",
       "      <td>Hoover</td>\n",
       "      <td>Alabama</td>\n",
       "      <td>38.5</td>\n",
       "      <td>38040.0</td>\n",
       "      <td>46799.0</td>\n",
       "      <td>84839</td>\n",
       "      <td>4819.0</td>\n",
       "      <td>8229.0</td>\n",
       "      <td>2.58</td>\n",
       "      <td>AL</td>\n",
       "      <td>Asian</td>\n",
       "      <td>4759</td>\n",
       "    </tr>\n",
       "    <tr>\n",
       "      <th>3</th>\n",
       "      <td>Rancho Cucamonga</td>\n",
       "      <td>California</td>\n",
       "      <td>34.5</td>\n",
       "      <td>88127.0</td>\n",
       "      <td>87105.0</td>\n",
       "      <td>175232</td>\n",
       "      <td>5821.0</td>\n",
       "      <td>33878.0</td>\n",
       "      <td>3.18</td>\n",
       "      <td>CA</td>\n",
       "      <td>Black or African-American</td>\n",
       "      <td>24437</td>\n",
       "    </tr>\n",
       "    <tr>\n",
       "      <th>4</th>\n",
       "      <td>Newark</td>\n",
       "      <td>New Jersey</td>\n",
       "      <td>34.6</td>\n",
       "      <td>138040.0</td>\n",
       "      <td>143873.0</td>\n",
       "      <td>281913</td>\n",
       "      <td>5829.0</td>\n",
       "      <td>86253.0</td>\n",
       "      <td>2.73</td>\n",
       "      <td>NJ</td>\n",
       "      <td>White</td>\n",
       "      <td>76402</td>\n",
       "    </tr>\n",
       "  </tbody>\n",
       "</table>\n",
       "</div>"
      ],
      "text/plain": [
       "               City          State  Median Age  Male Population  \\\n",
       "0     Silver Spring       Maryland        33.8          40601.0   \n",
       "1            Quincy  Massachusetts        41.0          44129.0   \n",
       "2            Hoover        Alabama        38.5          38040.0   \n",
       "3  Rancho Cucamonga     California        34.5          88127.0   \n",
       "4            Newark     New Jersey        34.6         138040.0   \n",
       "\n",
       "   Female Population  Total Population  Number of Veterans  Foreign-born  \\\n",
       "0            41862.0             82463              1562.0       30908.0   \n",
       "1            49500.0             93629              4147.0       32935.0   \n",
       "2            46799.0             84839              4819.0        8229.0   \n",
       "3            87105.0            175232              5821.0       33878.0   \n",
       "4           143873.0            281913              5829.0       86253.0   \n",
       "\n",
       "   Average Household Size State Code                       Race  Count  \n",
       "0                    2.60         MD         Hispanic or Latino  25924  \n",
       "1                    2.39         MA                      White  58723  \n",
       "2                    2.58         AL                      Asian   4759  \n",
       "3                    3.18         CA  Black or African-American  24437  \n",
       "4                    2.73         NJ                      White  76402  "
      ]
     },
     "execution_count": 49,
     "metadata": {},
     "output_type": "execute_result"
    }
   ],
   "source": [
    "df_demographics = pd.read_csv('us-cities-demographics.csv', delimiter=';')\n",
    "df_demographics.head(5)"
   ]
  },
  {
   "cell_type": "code",
   "execution_count": 50,
   "metadata": {
    "editable": true
   },
   "outputs": [
    {
     "data": {
      "text/plain": [
       "array(['Hispanic or Latino', 'White', 'Asian', 'Black or African-American',\n",
       "       'American Indian and Alaska Native'], dtype=object)"
      ]
     },
     "execution_count": 50,
     "metadata": {},
     "output_type": "execute_result"
    }
   ],
   "source": [
    "df_demographics['Race'].unique()"
   ]
  },
  {
   "cell_type": "code",
   "execution_count": 51,
   "metadata": {
    "editable": true
   },
   "outputs": [
    {
     "data": {
      "text/html": [
       "<div>\n",
       "<style scoped>\n",
       "    .dataframe tbody tr th:only-of-type {\n",
       "        vertical-align: middle;\n",
       "    }\n",
       "\n",
       "    .dataframe tbody tr th {\n",
       "        vertical-align: top;\n",
       "    }\n",
       "\n",
       "    .dataframe thead th {\n",
       "        text-align: right;\n",
       "    }\n",
       "</style>\n",
       "<table border=\"1\" class=\"dataframe\">\n",
       "  <thead>\n",
       "    <tr style=\"text-align: right;\">\n",
       "      <th></th>\n",
       "      <th>race_code</th>\n",
       "      <th>race_type</th>\n",
       "    </tr>\n",
       "  </thead>\n",
       "  <tbody>\n",
       "    <tr>\n",
       "      <th>0</th>\n",
       "      <td>1</td>\n",
       "      <td>Hispanic or Latino</td>\n",
       "    </tr>\n",
       "    <tr>\n",
       "      <th>1</th>\n",
       "      <td>2</td>\n",
       "      <td>White</td>\n",
       "    </tr>\n",
       "    <tr>\n",
       "      <th>2</th>\n",
       "      <td>3</td>\n",
       "      <td>Asian</td>\n",
       "    </tr>\n",
       "    <tr>\n",
       "      <th>3</th>\n",
       "      <td>4</td>\n",
       "      <td>Black or African-American</td>\n",
       "    </tr>\n",
       "    <tr>\n",
       "      <th>4</th>\n",
       "      <td>5</td>\n",
       "      <td>American Indian and Alaska Native</td>\n",
       "    </tr>\n",
       "  </tbody>\n",
       "</table>\n",
       "</div>"
      ],
      "text/plain": [
       "   race_code                          race_type\n",
       "0          1                 Hispanic or Latino\n",
       "1          2                              White\n",
       "2          3                              Asian\n",
       "3          4          Black or African-American\n",
       "4          5  American Indian and Alaska Native"
      ]
     },
     "execution_count": 51,
     "metadata": {},
     "output_type": "execute_result"
    }
   ],
   "source": [
    "data={'race_code':[1,2,3,4,5],\n",
    "      'race_type':['Hispanic or Latino','White','Asian','Black or African-American','American Indian and Alaska Native']\n",
    "     }\n",
    "dim_demographics_race=pd.DataFrame(data)\n",
    "dim_demographics_race"
   ]
  },
  {
   "cell_type": "code",
   "execution_count": 52,
   "metadata": {
    "editable": true
   },
   "outputs": [
    {
     "data": {
      "text/html": [
       "<div>\n",
       "<style scoped>\n",
       "    .dataframe tbody tr th:only-of-type {\n",
       "        vertical-align: middle;\n",
       "    }\n",
       "\n",
       "    .dataframe tbody tr th {\n",
       "        vertical-align: top;\n",
       "    }\n",
       "\n",
       "    .dataframe thead th {\n",
       "        text-align: right;\n",
       "    }\n",
       "</style>\n",
       "<table border=\"1\" class=\"dataframe\">\n",
       "  <thead>\n",
       "    <tr style=\"text-align: right;\">\n",
       "      <th></th>\n",
       "      <th>city</th>\n",
       "      <th>state_code</th>\n",
       "      <th>male_pop</th>\n",
       "      <th>female_pop</th>\n",
       "      <th>num_vetarans</th>\n",
       "      <th>foreign_born</th>\n",
       "      <th>median_age</th>\n",
       "      <th>avg_household_size</th>\n",
       "      <th>idx</th>\n",
       "    </tr>\n",
       "  </thead>\n",
       "  <tbody>\n",
       "    <tr>\n",
       "      <th>0</th>\n",
       "      <td>SILVER SPRING</td>\n",
       "      <td>MD</td>\n",
       "      <td>40601.0</td>\n",
       "      <td>41862.0</td>\n",
       "      <td>1562.0</td>\n",
       "      <td>30908.0</td>\n",
       "      <td>33.8</td>\n",
       "      <td>2.60</td>\n",
       "      <td>SILVER SPRINGMD</td>\n",
       "    </tr>\n",
       "    <tr>\n",
       "      <th>1</th>\n",
       "      <td>QUINCY</td>\n",
       "      <td>MA</td>\n",
       "      <td>44129.0</td>\n",
       "      <td>49500.0</td>\n",
       "      <td>4147.0</td>\n",
       "      <td>32935.0</td>\n",
       "      <td>41.0</td>\n",
       "      <td>2.39</td>\n",
       "      <td>QUINCYMA</td>\n",
       "    </tr>\n",
       "    <tr>\n",
       "      <th>2</th>\n",
       "      <td>HOOVER</td>\n",
       "      <td>AL</td>\n",
       "      <td>38040.0</td>\n",
       "      <td>46799.0</td>\n",
       "      <td>4819.0</td>\n",
       "      <td>8229.0</td>\n",
       "      <td>38.5</td>\n",
       "      <td>2.58</td>\n",
       "      <td>HOOVERAL</td>\n",
       "    </tr>\n",
       "    <tr>\n",
       "      <th>3</th>\n",
       "      <td>RANCHO CUCAMONGA</td>\n",
       "      <td>CA</td>\n",
       "      <td>88127.0</td>\n",
       "      <td>87105.0</td>\n",
       "      <td>5821.0</td>\n",
       "      <td>33878.0</td>\n",
       "      <td>34.5</td>\n",
       "      <td>3.18</td>\n",
       "      <td>RANCHO CUCAMONGACA</td>\n",
       "    </tr>\n",
       "    <tr>\n",
       "      <th>4</th>\n",
       "      <td>NEWARK</td>\n",
       "      <td>NJ</td>\n",
       "      <td>138040.0</td>\n",
       "      <td>143873.0</td>\n",
       "      <td>5829.0</td>\n",
       "      <td>86253.0</td>\n",
       "      <td>34.6</td>\n",
       "      <td>2.73</td>\n",
       "      <td>NEWARKNJ</td>\n",
       "    </tr>\n",
       "  </tbody>\n",
       "</table>\n",
       "</div>"
      ],
      "text/plain": [
       "               city state_code  male_pop  female_pop  num_vetarans  \\\n",
       "0     SILVER SPRING         MD   40601.0     41862.0        1562.0   \n",
       "1            QUINCY         MA   44129.0     49500.0        4147.0   \n",
       "2            HOOVER         AL   38040.0     46799.0        4819.0   \n",
       "3  RANCHO CUCAMONGA         CA   88127.0     87105.0        5821.0   \n",
       "4            NEWARK         NJ  138040.0    143873.0        5829.0   \n",
       "\n",
       "   foreign_born  median_age  avg_household_size                 idx  \n",
       "0       30908.0        33.8                2.60     SILVER SPRINGMD  \n",
       "1       32935.0        41.0                2.39            QUINCYMA  \n",
       "2        8229.0        38.5                2.58            HOOVERAL  \n",
       "3       33878.0        34.5                3.18  RANCHO CUCAMONGACA  \n",
       "4       86253.0        34.6                2.73            NEWARKNJ  "
      ]
     },
     "execution_count": 52,
     "metadata": {},
     "output_type": "execute_result"
    }
   ],
   "source": [
    "#city_code=[i for i in range(1,597)]\n",
    "dim_demographics_city_population = df_demographics[['City','State Code','Male Population','Female Population','Number of Veterans','Foreign-born','Median Age', 'Average Household Size']].drop_duplicates()\n",
    "dim_demographics_city_population.columns = ['city','state_code','male_pop','female_pop','num_vetarans','foreign_born','median_age', 'avg_household_size']\n",
    "#dim_demographics_city_population.insert(loc=0, column='city_code', value=city_code)\n",
    "dim_demographics_city_population['idx']=dim_demographics_city_population['city']+dim_demographics_city_population['state_code']\n",
    "dim_demographics_city_population['city'] = dim_demographics_city_population['city'].str.upper()\n",
    "dim_demographics_city_population['idx'] = dim_demographics_city_population['idx'].str.upper()\n",
    "dim_demographics_city_population.head(5)"
   ]
  },
  {
   "cell_type": "code",
   "execution_count": 53,
   "metadata": {
    "editable": true
   },
   "outputs": [
    {
     "name": "stderr",
     "output_type": "stream",
     "text": [
      "/opt/conda/lib/python3.6/site-packages/ipykernel_launcher.py:2: SettingWithCopyWarning: \n",
      "A value is trying to be set on a copy of a slice from a DataFrame.\n",
      "Try using .loc[row_indexer,col_indexer] = value instead\n",
      "\n",
      "See the caveats in the documentation: http://pandas.pydata.org/pandas-docs/stable/indexing.html#indexing-view-versus-copy\n",
      "  \n"
     ]
    },
    {
     "data": {
      "text/html": [
       "<div>\n",
       "<style scoped>\n",
       "    .dataframe tbody tr th:only-of-type {\n",
       "        vertical-align: middle;\n",
       "    }\n",
       "\n",
       "    .dataframe tbody tr th {\n",
       "        vertical-align: top;\n",
       "    }\n",
       "\n",
       "    .dataframe thead th {\n",
       "        text-align: right;\n",
       "    }\n",
       "</style>\n",
       "<table border=\"1\" class=\"dataframe\">\n",
       "  <thead>\n",
       "    <tr style=\"text-align: right;\">\n",
       "      <th></th>\n",
       "      <th>idx</th>\n",
       "      <th>Race</th>\n",
       "    </tr>\n",
       "  </thead>\n",
       "  <tbody>\n",
       "    <tr>\n",
       "      <th>0</th>\n",
       "      <td>SILVER SPRINGMD</td>\n",
       "      <td>Hispanic or Latino</td>\n",
       "    </tr>\n",
       "    <tr>\n",
       "      <th>1</th>\n",
       "      <td>QUINCYMA</td>\n",
       "      <td>White</td>\n",
       "    </tr>\n",
       "    <tr>\n",
       "      <th>2</th>\n",
       "      <td>HOOVERAL</td>\n",
       "      <td>Asian</td>\n",
       "    </tr>\n",
       "    <tr>\n",
       "      <th>3</th>\n",
       "      <td>RANCHO CUCAMONGACA</td>\n",
       "      <td>Black or African-American</td>\n",
       "    </tr>\n",
       "    <tr>\n",
       "      <th>4</th>\n",
       "      <td>NEWARKNJ</td>\n",
       "      <td>White</td>\n",
       "    </tr>\n",
       "  </tbody>\n",
       "</table>\n",
       "</div>"
      ],
      "text/plain": [
       "                  idx                       Race\n",
       "0     SILVER SPRINGMD         Hispanic or Latino\n",
       "1            QUINCYMA                      White\n",
       "2            HOOVERAL                      Asian\n",
       "3  RANCHO CUCAMONGACA  Black or African-American\n",
       "4            NEWARKNJ                      White"
      ]
     },
     "execution_count": 53,
     "metadata": {},
     "output_type": "execute_result"
    }
   ],
   "source": [
    "dim_demographics_city_race=df_demographics[['City','State Code','Race']]\n",
    "dim_demographics_city_race['idx']=dim_demographics_city_race['City']+dim_demographics_city_race['State Code']\n",
    "dim_demographics_city_race=dim_demographics_city_race[['idx','Race']]\n",
    "dim_demographics_city_race['idx'] = dim_demographics_city_race['idx'].str.upper()\n",
    "#dim_demographics_city_population=dim_demographics_city_population.drop(columns=['City','State Code'],axis=1)\n",
    "#dim_demographics_city_population=dim_demographics_city_population.drop(columns=['State Code'])\n",
    "dim_demographics_city_race.head(5)"
   ]
  },
  {
   "cell_type": "code",
   "execution_count": 54,
   "metadata": {
    "editable": true
   },
   "outputs": [
    {
     "data": {
      "text/html": [
       "<div>\n",
       "<style scoped>\n",
       "    .dataframe tbody tr th:only-of-type {\n",
       "        vertical-align: middle;\n",
       "    }\n",
       "\n",
       "    .dataframe tbody tr th {\n",
       "        vertical-align: top;\n",
       "    }\n",
       "\n",
       "    .dataframe thead th {\n",
       "        text-align: right;\n",
       "    }\n",
       "</style>\n",
       "<table border=\"1\" class=\"dataframe\">\n",
       "  <thead>\n",
       "    <tr style=\"text-align: right;\">\n",
       "      <th></th>\n",
       "      <th>idx</th>\n",
       "      <th>race_code</th>\n",
       "    </tr>\n",
       "  </thead>\n",
       "  <tbody>\n",
       "    <tr>\n",
       "      <th>0</th>\n",
       "      <td>SILVER SPRINGMD</td>\n",
       "      <td>1</td>\n",
       "    </tr>\n",
       "    <tr>\n",
       "      <th>1</th>\n",
       "      <td>QUINCYMA</td>\n",
       "      <td>2</td>\n",
       "    </tr>\n",
       "    <tr>\n",
       "      <th>2</th>\n",
       "      <td>HOOVERAL</td>\n",
       "      <td>3</td>\n",
       "    </tr>\n",
       "    <tr>\n",
       "      <th>3</th>\n",
       "      <td>RANCHO CUCAMONGACA</td>\n",
       "      <td>4</td>\n",
       "    </tr>\n",
       "    <tr>\n",
       "      <th>4</th>\n",
       "      <td>NEWARKNJ</td>\n",
       "      <td>2</td>\n",
       "    </tr>\n",
       "  </tbody>\n",
       "</table>\n",
       "</div>"
      ],
      "text/plain": [
       "                  idx  race_code\n",
       "0     SILVER SPRINGMD          1\n",
       "1            QUINCYMA          2\n",
       "2            HOOVERAL          3\n",
       "3  RANCHO CUCAMONGACA          4\n",
       "4            NEWARKNJ          2"
      ]
     },
     "execution_count": 54,
     "metadata": {},
     "output_type": "execute_result"
    }
   ],
   "source": [
    "#dim_demographics_city_race['City'] = dim_demographics_city_race['idx'].map(dim_demographics_city_population.set_index('idx')['city_code'])\n",
    "dim_demographics_city_race['Race'] = dim_demographics_city_race['Race'].map(dim_demographics_race.set_index('race_type')['race_code'])\n",
    "#dim_demographics_city_race=dim_demographics_city_race.drop(columns=['State Code','idx'])\n",
    "dim_demographics_city_race.columns=['idx','race_code']\n",
    "dim_demographics_city_race['idx'] = dim_demographics_city_race['idx'].str.upper()\n",
    "#dim_demographics_city_population=dim_demographics_city_population.drop(columns=['idx'])\n",
    "dim_demographics_city_race.head(5)"
   ]
  },
  {
   "cell_type": "code",
   "execution_count": 19,
   "metadata": {
    "editable": true
   },
   "outputs": [],
   "source": [
    "with open(\"I94_SAS_Labels_Descriptions.SAS\") as f:\n",
    "    contents = f.readlines()"
   ]
  },
  {
   "cell_type": "code",
   "execution_count": 20,
   "metadata": {
    "editable": true
   },
   "outputs": [
    {
     "data": {
      "text/html": [
       "<div>\n",
       "<style scoped>\n",
       "    .dataframe tbody tr th:only-of-type {\n",
       "        vertical-align: middle;\n",
       "    }\n",
       "\n",
       "    .dataframe tbody tr th {\n",
       "        vertical-align: top;\n",
       "    }\n",
       "\n",
       "    .dataframe thead th {\n",
       "        text-align: right;\n",
       "    }\n",
       "</style>\n",
       "<table border=\"1\" class=\"dataframe\">\n",
       "  <thead>\n",
       "    <tr style=\"text-align: right;\">\n",
       "      <th></th>\n",
       "      <th>code</th>\n",
       "      <th>country</th>\n",
       "    </tr>\n",
       "  </thead>\n",
       "  <tbody>\n",
       "    <tr>\n",
       "      <th>0</th>\n",
       "      <td>236</td>\n",
       "      <td>AFGHANISTAN</td>\n",
       "    </tr>\n",
       "    <tr>\n",
       "      <th>1</th>\n",
       "      <td>101</td>\n",
       "      <td>ALBANIA</td>\n",
       "    </tr>\n",
       "    <tr>\n",
       "      <th>2</th>\n",
       "      <td>316</td>\n",
       "      <td>ALGERIA</td>\n",
       "    </tr>\n",
       "    <tr>\n",
       "      <th>3</th>\n",
       "      <td>102</td>\n",
       "      <td>ANDORRA</td>\n",
       "    </tr>\n",
       "    <tr>\n",
       "      <th>4</th>\n",
       "      <td>324</td>\n",
       "      <td>ANGOLA</td>\n",
       "    </tr>\n",
       "  </tbody>\n",
       "</table>\n",
       "</div>"
      ],
      "text/plain": [
       "  code      country\n",
       "0  236  AFGHANISTAN\n",
       "1  101      ALBANIA\n",
       "2  316      ALGERIA\n",
       "3  102      ANDORRA\n",
       "4  324       ANGOLA"
      ]
     },
     "execution_count": 20,
     "metadata": {},
     "output_type": "execute_result"
    }
   ],
   "source": [
    "country_code = {}\n",
    "for countries in contents[10:298]:\n",
    "    pair = countries.split('=')\n",
    "    code, country = pair[0].strip(), pair[1].strip().strip(\"'\")\n",
    "    country_code[code] = country\n",
    "df_country_code = pd.DataFrame(list(country_code.items()), columns=['code', 'country'])\n",
    "df_country_code.head(5)    "
   ]
  },
  {
   "cell_type": "code",
   "execution_count": 21,
   "metadata": {
    "editable": true
   },
   "outputs": [
    {
     "data": {
      "text/html": [
       "<div>\n",
       "<style scoped>\n",
       "    .dataframe tbody tr th:only-of-type {\n",
       "        vertical-align: middle;\n",
       "    }\n",
       "\n",
       "    .dataframe tbody tr th {\n",
       "        vertical-align: top;\n",
       "    }\n",
       "\n",
       "    .dataframe thead th {\n",
       "        text-align: right;\n",
       "    }\n",
       "</style>\n",
       "<table border=\"1\" class=\"dataframe\">\n",
       "  <thead>\n",
       "    <tr style=\"text-align: right;\">\n",
       "      <th></th>\n",
       "      <th>abbr_code</th>\n",
       "      <th>city</th>\n",
       "    </tr>\n",
       "  </thead>\n",
       "  <tbody>\n",
       "    <tr>\n",
       "      <th>0</th>\n",
       "      <td>ANC</td>\n",
       "      <td>ANCHORAGE, AK</td>\n",
       "    </tr>\n",
       "    <tr>\n",
       "      <th>1</th>\n",
       "      <td>BAR</td>\n",
       "      <td>BAKER AAF - BAKER ISLAND, AK</td>\n",
       "    </tr>\n",
       "    <tr>\n",
       "      <th>2</th>\n",
       "      <td>DAC</td>\n",
       "      <td>DALTONS CACHE, AK</td>\n",
       "    </tr>\n",
       "    <tr>\n",
       "      <th>3</th>\n",
       "      <td>PIZ</td>\n",
       "      <td>DEW STATION PT LAY DEW, AK</td>\n",
       "    </tr>\n",
       "    <tr>\n",
       "      <th>4</th>\n",
       "      <td>DTH</td>\n",
       "      <td>DUTCH HARBOR, AK</td>\n",
       "    </tr>\n",
       "  </tbody>\n",
       "</table>\n",
       "</div>"
      ],
      "text/plain": [
       "  abbr_code                          city\n",
       "0       ANC        ANCHORAGE, AK         \n",
       "1       BAR  BAKER AAF - BAKER ISLAND, AK\n",
       "2       DAC        DALTONS CACHE, AK     \n",
       "3       PIZ    DEW STATION PT LAY DEW, AK\n",
       "4       DTH        DUTCH HARBOR, AK      "
      ]
     },
     "execution_count": 21,
     "metadata": {},
     "output_type": "execute_result"
    }
   ],
   "source": [
    "city_code = {}\n",
    "for cities in contents[303:962]:\n",
    "    pair = cities.split('=')\n",
    "    code, city = pair[0].strip(\"\\t\").strip().strip(\"'\"), pair[1].strip('\\t').strip().strip(\"''\")\n",
    "    city_code[code] = city\n",
    "df_city_code = pd.DataFrame(list(city_code.items()), columns=['abbr_code', 'city'])\n",
    "df_city_code.head(5)    "
   ]
  },
  {
   "cell_type": "code",
   "execution_count": 22,
   "metadata": {
    "editable": true
   },
   "outputs": [
    {
     "data": {
      "text/html": [
       "<div>\n",
       "<style scoped>\n",
       "    .dataframe tbody tr th:only-of-type {\n",
       "        vertical-align: middle;\n",
       "    }\n",
       "\n",
       "    .dataframe tbody tr th {\n",
       "        vertical-align: top;\n",
       "    }\n",
       "\n",
       "    .dataframe thead th {\n",
       "        text-align: right;\n",
       "    }\n",
       "</style>\n",
       "<table border=\"1\" class=\"dataframe\">\n",
       "  <thead>\n",
       "    <tr style=\"text-align: right;\">\n",
       "      <th></th>\n",
       "      <th>abbr_code</th>\n",
       "      <th>state</th>\n",
       "    </tr>\n",
       "  </thead>\n",
       "  <tbody>\n",
       "    <tr>\n",
       "      <th>0</th>\n",
       "      <td>AK</td>\n",
       "      <td>ALASKA</td>\n",
       "    </tr>\n",
       "    <tr>\n",
       "      <th>1</th>\n",
       "      <td>AZ</td>\n",
       "      <td>ARIZONA</td>\n",
       "    </tr>\n",
       "    <tr>\n",
       "      <th>2</th>\n",
       "      <td>AR</td>\n",
       "      <td>ARKANSAS</td>\n",
       "    </tr>\n",
       "    <tr>\n",
       "      <th>3</th>\n",
       "      <td>CA</td>\n",
       "      <td>CALIFORNIA</td>\n",
       "    </tr>\n",
       "    <tr>\n",
       "      <th>4</th>\n",
       "      <td>CO</td>\n",
       "      <td>COLORADO</td>\n",
       "    </tr>\n",
       "  </tbody>\n",
       "</table>\n",
       "</div>"
      ],
      "text/plain": [
       "  abbr_code       state\n",
       "0        AK      ALASKA\n",
       "1        AZ     ARIZONA\n",
       "2        AR    ARKANSAS\n",
       "3        CA  CALIFORNIA\n",
       "4        CO    COLORADO"
      ]
     },
     "execution_count": 22,
     "metadata": {},
     "output_type": "execute_result"
    }
   ],
   "source": [
    "state_code = {}\n",
    "for states in contents[982:1036]:\n",
    "    pair = states.split('=')\n",
    "    code, state = pair[0].strip('\\t').strip(\"'\"), pair[1].strip().strip(\"'\")\n",
    "    state_code[code] = state\n",
    "df_state_code = pd.DataFrame(list(state_code.items()), columns=['abbr_code', 'state'])\n",
    "df_state_code.head(5)    "
   ]
  },
  {
   "cell_type": "code",
   "execution_count": null,
   "metadata": {
    "editable": true
   },
   "outputs": [],
   "source": [
    "dim_demographics_city_population['city'] = dim_demographics_city_population['city'].str.upper()\n",
    "dim_demographics_city_population.head(5)"
   ]
  },
  {
   "cell_type": "code",
   "execution_count": 2,
   "metadata": {
    "editable": true
   },
   "outputs": [],
   "source": [
    "from pyspark.sql import SparkSession\n",
    "from pyspark.sql.functions import udf, col, lit\n",
    "\n",
    "spark = SparkSession.builder.\\\n",
    "config(\"spark.jars.repositories\", \"https://repos.spark-packages.org/\").\\\n",
    "config(\"spark.jars.packages\", \"saurfang:spark-sas7bdat:2.0.0-s_2.11\").\\\n",
    "enableHiveSupport().getOrCreate()\n",
    "df_spark = spark.read.format('com.github.saurfang.sas.spark').load('../../data/18-83510-I94-Data-2016/i94_apr16_sub.sas7bdat')"
   ]
  },
  {
   "cell_type": "code",
   "execution_count": 3,
   "metadata": {
    "editable": true
   },
   "outputs": [],
   "source": [
    "df_spark = df_spark.withColumn('country', lit('United States'))"
   ]
  },
  {
   "cell_type": "code",
   "execution_count": 4,
   "metadata": {
    "editable": true
   },
   "outputs": [],
   "source": [
    "from pyspark.sql.functions import monotonically_increasing_id\n",
    "fact_immigration = df_spark.select('cicid', 'i94yr', 'i94mon', 'i94port', 'i94addr',\\\n",
    "                                   'arrdate', 'depdate', 'i94mode', 'country', 'matflag',\\\n",
    "                                   'entdepa','entdepd','dtaddto','dtadfile','occup',\\\n",
    "                                   'count').distinct()\\\n",
    ".withColumn(\"immigration_id\", monotonically_increasing_id())"
   ]
  },
  {
   "cell_type": "code",
   "execution_count": 5,
   "metadata": {
    "editable": true
   },
   "outputs": [
    {
     "name": "stdout",
     "output_type": "stream",
     "text": [
      "+-----+------+------+-------+-------+-------+-------+-------+-------------+-------+-------+-------+--------+--------+-----+-----+--------------+\n",
      "|cicid| i94yr|i94mon|i94port|i94addr|arrdate|depdate|i94mode|      country|matflag|entdepa|entdepd| dtaddto|dtadfile|occup|count|immigration_id|\n",
      "+-----+------+------+-------+-------+-------+-------+-------+-------------+-------+-------+-------+--------+--------+-----+-----+--------------+\n",
      "|128.0|2016.0|   4.0|    NEW|     NJ|20545.0|20552.0|    1.0|United States|      M|      G|      Q|06292016|20160401| null|  1.0|             0|\n",
      "|296.0|2016.0|   4.0|    NYC|     NY|20545.0|20548.0|    1.0|United States|      M|      O|      O|06292016|20160401| null|  1.0|             1|\n",
      "|520.0|2016.0|   4.0|    CHI|     TN|20545.0|20577.0|    1.0|United States|      M|      G|      O|06292016|20160401| null|  1.0|             2|\n",
      "|901.0|2016.0|   4.0|    NEW|     NV|20545.0|20549.0|    1.0|United States|      M|      G|      O|06292016|20160401| null|  1.0|             3|\n",
      "|906.0|2016.0|   4.0|    NEW|     NY|20545.0|   null|    1.0|United States|   null|      G|   null|06292016|20160401| null|  1.0|             4|\n",
      "+-----+------+------+-------+-------+-------+-------+-------+-------------+-------+-------+-------+--------+--------+-----+-----+--------------+\n",
      "only showing top 5 rows\n",
      "\n"
     ]
    }
   ],
   "source": [
    "fact_immigration.show(5)"
   ]
  },
  {
   "cell_type": "code",
   "execution_count": 5,
   "metadata": {
    "editable": true
   },
   "outputs": [],
   "source": [
    "def update_column_name(original_table, new_column_names):\n",
    "    for original_column_name, new_column_name in zip(original_table.columns, new_column_names):\n",
    "        original_table = original_table.withColumnRenamed(original_column_name, new_column_name)\n",
    "    return original_table"
   ]
  },
  {
   "cell_type": "code",
   "execution_count": 7,
   "metadata": {
    "editable": true
   },
   "outputs": [],
   "source": [
    "    new_columns = ['cic_id', 'year', 'month', 'city_code', 'state_code', 'arrival_date',\\\n",
    "                   'departure_date','mode','country','matflag','entdepa','entdepd',\\\n",
    "                   'dtaddto','dtadfile','occup','count','immigration_id']\n",
    "                  \n",
    "    fact_immigration = update_column_name(fact_immigration, new_columns)"
   ]
  },
  {
   "cell_type": "code",
   "execution_count": 8,
   "metadata": {
    "editable": true
   },
   "outputs": [
    {
     "name": "stdout",
     "output_type": "stream",
     "text": [
      "+------+------+-----+---------+----------+------------+--------------+----+-------------+-------+-------+-------+--------+--------+-----+-----+--------------+\n",
      "|cic_id|  year|month|city_code|state_code|arrival_date|departure_date|mode|      country|matflag|entdepa|entdepd| dtaddto|dtadfile|occup|count|immigration_id|\n",
      "+------+------+-----+---------+----------+------------+--------------+----+-------------+-------+-------+-------+--------+--------+-----+-----+--------------+\n",
      "| 128.0|2016.0|  4.0|      NEW|        NJ|     20545.0|       20552.0| 1.0|United States|      M|      G|      Q|06292016|20160401| null|  1.0|             0|\n",
      "| 296.0|2016.0|  4.0|      NYC|        NY|     20545.0|       20548.0| 1.0|United States|      M|      O|      O|06292016|20160401| null|  1.0|             1|\n",
      "| 520.0|2016.0|  4.0|      CHI|        TN|     20545.0|       20577.0| 1.0|United States|      M|      G|      O|06292016|20160401| null|  1.0|             2|\n",
      "| 901.0|2016.0|  4.0|      NEW|        NV|     20545.0|       20549.0| 1.0|United States|      M|      G|      O|06292016|20160401| null|  1.0|             3|\n",
      "| 906.0|2016.0|  4.0|      NEW|        NY|     20545.0|          null| 1.0|United States|   null|      G|   null|06292016|20160401| null|  1.0|             4|\n",
      "+------+------+-----+---------+----------+------------+--------------+----+-------------+-------+-------+-------+--------+--------+-----+-----+--------------+\n",
      "only showing top 5 rows\n",
      "\n"
     ]
    }
   ],
   "source": [
    "fact_immigration.show(5)"
   ]
  },
  {
   "cell_type": "code",
   "execution_count": 9,
   "metadata": {
    "editable": true
   },
   "outputs": [
    {
     "name": "stdout",
     "output_type": "stream",
     "text": [
      "+-------+\n",
      "|entdepd|\n",
      "+-------+\n",
      "|      7|\n",
      "|     11|\n",
      "|      3|\n",
      "|      8|\n",
      "|      5|\n",
      "|      6|\n",
      "|      9|\n",
      "|      1|\n",
      "|     10|\n",
      "|      4|\n",
      "|     12|\n",
      "|     13|\n",
      "|      2|\n",
      "+-------+\n",
      "\n"
     ]
    }
   ],
   "source": [
    "from pyspark.sql.functions import udf, col, lit, year, month, upper, to_date\n",
    "maps_entdepd={'O':'1','R':'2','K':'3','N':'4','D':'5','I':'6','Q':'7','J':'8','W':'9','L':'10','M':'11','V':'12','null':'13'}\n",
    "fact_immigration = fact_immigration.replace(to_replace=maps_entdepd, subset=['entdepd'])\n",
    "fact_immigration=fact_immigration.na.fill({'entdepd': '13'})\n",
    "fact_immigration.withColumn('entdepd',col('entdepd').cast('int'))\n",
    "fact_immigration.select('entdepd').distinct().show()"
   ]
  },
  {
   "cell_type": "code",
   "execution_count": 11,
   "metadata": {
    "editable": true
   },
   "outputs": [
    {
     "name": "stderr",
     "output_type": "stream",
     "text": [
      "/opt/spark-2.4.3-bin-hadoop2.7/python/pyspark/sql/session.py:346: UserWarning: inferring schema from dict is deprecated,please use pyspark.sql.Row instead\n",
      "  warnings.warn(\"inferring schema from dict is deprecated,\"\n"
     ]
    }
   ],
   "source": [
    "data = [{'code' : 1, 'entdepa' : 'G'}, {'code' : 2, 'entdepa' : 'Z'},\n",
    "        {'code' : 3, 'entdepa' : 'T'}, {'code' : 4, 'entdepa' : 'O'},\n",
    "        {'code' : 5, 'entdepa' : 'P'}, {'code' : 6, 'entdepa' : 'A'},\n",
    "        {'code' : 7, 'entdepa' : 'K'}, {'code' : 8, 'entdepa' : 'U'},\n",
    "        {'code' : 9, 'entdepa' : 'H'}, {'code' : 10, 'entdepa' : 'F'},\n",
    "        {'code' : 11, 'entdepa' : 'B'}, {'code' : 12, 'entdepa' : 'M'},\n",
    "        {'code' : 13, 'entdepa' : 'N'}, {'code' : 14, 'entdepa' : 'null'}]\n",
    "\n",
    "dim_immigration_entdepa = spark.createDataFrame(data)\n",
    "dim_immigration_entdepa.write.mode(\"overwrite\")\\\n",
    ".parquet(path='immigration_data/dim_immigration_entdepa') "
   ]
  },
  {
   "cell_type": "code",
   "execution_count": 12,
   "metadata": {
    "editable": true
   },
   "outputs": [
    {
     "name": "stderr",
     "output_type": "stream",
     "text": [
      "/opt/spark-2.4.3-bin-hadoop2.7/python/pyspark/sql/session.py:346: UserWarning: inferring schema from dict is deprecated,please use pyspark.sql.Row instead\n",
      "  warnings.warn(\"inferring schema from dict is deprecated,\"\n"
     ]
    }
   ],
   "source": [
    "data = [{'code' : 1, 'entdepd' : 'O'}, {'code' : 2, 'entdepd' : 'R'},\n",
    "        {'code' : 3, 'entdepd' : 'K'}, {'code' : 4, 'entdepd' : 'N'},\n",
    "        {'code' : 5, 'entdepd' : 'D'}, {'code' : 6, 'entdepd' : 'I'},\n",
    "        {'code' : 7, 'entdepd' : 'Q'}, {'code' : 8, 'entdepd' : 'J'},\n",
    "        {'code' : 9, 'entdepd' : 'W'}, {'code' : 10, 'entdepd' : 'L'},\n",
    "        {'code' : 11, 'entdepd' : 'M'}, {'code' : 12, 'entdepd' : 'V'},\n",
    "        {'code' : 13, 'entdepd' : 'null'}]\n",
    "\n",
    "dim_immigration_entdepd = spark.createDataFrame(data)\n",
    "dim_immigration_entdepd.write.mode(\"overwrite\")\\\n",
    ".parquet(path='immigration_data/dim_immigration_entdepd')"
   ]
  },
  {
   "cell_type": "code",
   "execution_count": 13,
   "metadata": {
    "editable": true
   },
   "outputs": [
    {
     "name": "stdout",
     "output_type": "stream",
     "text": [
      "+-------+\n",
      "|entdepa|\n",
      "+-------+\n",
      "|      7|\n",
      "|     11|\n",
      "|      3|\n",
      "|      8|\n",
      "|      5|\n",
      "|      6|\n",
      "|      9|\n",
      "|      1|\n",
      "|     10|\n",
      "|      4|\n",
      "|     12|\n",
      "|     13|\n",
      "|     14|\n",
      "|      2|\n",
      "+-------+\n",
      "\n"
     ]
    }
   ],
   "source": [
    "maps_entdepa={'G':'1','Z':'2','T':'3','O':'4','P':'5','A':'6','K':'7','U':'8','H':'9','F':'10','B':'11','M':'12','N':'13','null':'14'}\n",
    "fact_immigration = fact_immigration.replace(to_replace=maps_entdepa, subset=['entdepa'])\n",
    "fact_immigration=fact_immigration.na.fill({'entdepa': '14'})\n",
    "fact_immigration.withColumn('entdepa',col('entdepa').cast('int'))\n",
    "fact_immigration.select('entdepa').distinct().show()"
   ]
  },
  {
   "cell_type": "code",
   "execution_count": 14,
   "metadata": {
    "editable": true
   },
   "outputs": [
    {
     "name": "stderr",
     "output_type": "stream",
     "text": [
      "/opt/spark-2.4.3-bin-hadoop2.7/python/pyspark/sql/session.py:346: UserWarning: inferring schema from dict is deprecated,please use pyspark.sql.Row instead\n",
      "  warnings.warn(\"inferring schema from dict is deprecated,\"\n"
     ]
    }
   ],
   "source": [
    "data = [{'visa_type' : 'B1', 'visa' : 1.0}, {'visa_type' : 'WT', 'visa' : 2.0},\n",
    "        {'visa_type' : 'E2', 'visa' : 1.0}, {'visa_type' : 'I1', 'visa' : 1.0},\n",
    "        {'visa_type' : 'M2', 'visa' : 3.0}, {'visa_type' : 'CPL', 'visa' : 2.0},\n",
    "        {'visa_type' : 'E1', 'visa' : 1.0}, {'visa_type' : 'M1', 'visa' : 3.0},\n",
    "        {'visa_type' : 'F1', 'visa' : 3.0}, {'visa_type' : 'GMB', 'visa' : 1.0},\n",
    "        {'visa_type' : 'GMT', 'visa' : 2.0}, {'visa_type' : 'CP', 'visa' : 2.0},\n",
    "        {'visa_type' : 'F2', 'visa' : 3.0}, {'visa_type' : 'WB', 'visa' : 1.0},\n",
    "        {'visa_type' : 'I', 'visa' : 1.0}, {'visa_type' : 'SBP', 'visa' : 2.0},\n",
    "        {'visa_type' : 'B2', 'visa' : 2.0}]\n",
    "dim_immigration_visa = spark.createDataFrame(data)\n",
    "dim_immigration_visa = dim_immigration_visa.select(sorted(dim_immigration_visa.columns,reverse=True))\n",
    "dim_immigration_visa.write.mode(\"overwrite\")\\\n",
    ".parquet(path='immigration_data/dim_immigration_visa')"
   ]
  },
  {
   "cell_type": "code",
   "execution_count": 15,
   "metadata": {
    "editable": true
   },
   "outputs": [],
   "source": [
    "import os\n",
    "import configparser\n",
    "from datetime import datetime\n",
    "import logging\n",
    "import pandas as pd\n",
    "from pyspark.sql import SparkSession\n",
    "from pyspark.sql.functions import udf, col, lit\n",
    "from pyspark.sql.functions import year, month, dayofmonth, hour, weekofyear, date_format, upper, to_date\n",
    "from pyspark.sql.functions import monotonically_increasing_id\n",
    "from pyspark.sql.types import StructType as StructType, DoubleType as DoubleType, StructField as StructField\n",
    "from pyspark.sql.types import StringType as StringType, IntegerType as IntegerType, TimestampType, DateType\n",
    "\n",
    "def convert_to_datetime(date):\n",
    "    \"\"\"\n",
    "    Convert to yyyy-mm-dd format\n",
    "    \n",
    "    :return: date in yyyy-mm-dd format\n",
    "    \"\"\"   \n",
    "    if date is not None:\n",
    "        return pd.Timestamp('1960-1-1')+pd.to_timedelta(date, unit='D')\n",
    "\n",
    "convert_to_datetime_udf = udf(convert_to_datetime, DateType())\n",
    "\n",
    "def convert_to_datetime_from_format(format_str):\n",
    "    def trans(date):\n",
    "        if date is not None:\n",
    "            date=pd.to_datetime(date,format=format_str,errors='coerce')\n",
    "            return date      \n",
    "    return udf(trans,DateType())"
   ]
  },
  {
   "cell_type": "code",
   "execution_count": 16,
   "metadata": {
    "editable": true
   },
   "outputs": [],
   "source": [
    "fact_immigration = fact_immigration.withColumn('arrival_date', \\\n",
    "                               convert_to_datetime_udf(col('arrival_date')))\n",
    "fact_immigration = fact_immigration.withColumn('departure_date', \\\n",
    "                               convert_to_datetime_udf(col('departure_date')))\n",
    "#df_spark = df_spark.withColumn('dtaddto', \\\n",
    "#                               convert_to_datetime_from_format('%m%d%Y')(col('dtaddto')))\n",
    "#df_spark = df_spark.withColumn('dtadfile', \\\n",
    "#                               convert_to_datetime_from_format('%Y%m%d')(col('dtadfile')))                 "
   ]
  },
  {
   "cell_type": "code",
   "execution_count": 17,
   "metadata": {
    "editable": true
   },
   "outputs": [],
   "source": [
    "fact_immigration = fact_immigration.withColumn('dtadfile', \\\n",
    "                               convert_to_datetime_from_format('%Y%m%d')(col('dtadfile'))) \n",
    "#fact_immigration.select('dtadfile').show(5)"
   ]
  },
  {
   "cell_type": "code",
   "execution_count": 18,
   "metadata": {
    "editable": true
   },
   "outputs": [],
   "source": [
    "from pyspark.sql.functions import regexp_replace\n",
    "fact_immigration=fact_immigration.withColumn('dtaddto', regexp_replace('dtaddto', 'D/S', '01011900'))\n",
    "#fact_immigration.select('dtaddto').show(10)"
   ]
  },
  {
   "cell_type": "code",
   "execution_count": 19,
   "metadata": {
    "editable": true
   },
   "outputs": [],
   "source": [
    "fact_immigration = fact_immigration.withColumn('dtaddto', \\\n",
    "                               convert_to_datetime_from_format('%m%d%Y')(col('dtaddto'))) \n",
    "#fact_immigration.select('dtaddto').show(10)"
   ]
  },
  {
   "cell_type": "code",
   "execution_count": 20,
   "metadata": {
    "editable": true
   },
   "outputs": [],
   "source": [
    "    new_columns = ['cic_id', 'year', 'month', 'city_code', 'state_code', 'arrival_date',\\\n",
    "                   'departure_date','mode','country','matflag','entdepa_code',\\\n",
    "                   'entdepd_code','dtaddto','dtadfile','occup','count','immigration_id']\n",
    "                  \n",
    "    fact_immigration = update_column_name(fact_immigration, new_columns)\n",
    "#fact_immigration.show(1)"
   ]
  },
  {
   "cell_type": "code",
   "execution_count": 21,
   "metadata": {
    "editable": true
   },
   "outputs": [],
   "source": [
    "#fact_immigration=fact_immigration.na.fill({'state_code': 'XXXXX'})\n",
    "#fact_immigration.write.mode(\"overwrite\").parquet(path='fact_immigration') \n",
    "#fact_immigration.select('state_code').distinct().show(5)\n",
    "fact_immigration = fact_immigration.filter(\"mode is not NULL AND occup is not NULL\")\n",
    "fact_immigration.write.mode(\"overwrite\").partitionBy('state_code')\\\n",
    ".parquet(path='immigration_data/fact_immigration') \n",
    "#fact_immigration.write.mode(\"overwrite\").parquet(path='fact_immigration')"
   ]
  },
  {
   "cell_type": "code",
   "execution_count": 22,
   "metadata": {
    "editable": true
   },
   "outputs": [],
   "source": [
    "dim_immigration_airline = df_spark.select('cicid', 'airline', 'admnum', 'fltno',\\\n",
    "                                          'visatype','visapost').distinct()\\\n",
    ".withColumn(\"immigration_airline_id\", monotonically_increasing_id())\n",
    "new_columns = ['cic_id', 'airline', 'admin_num', 'flight_number', 'visa_type',\\\n",
    "               'visapost', 'immigration_airline_id']\n",
    "                  \n",
    "dim_immigration_airline = update_column_name(dim_immigration_airline, new_columns)\n",
    "dim_immigration_airline.write.mode(\"overwrite\")\\\n",
    ".parquet(path='immigration_data/dim_immigration_airline')"
   ]
  },
  {
   "cell_type": "code",
   "execution_count": 23,
   "metadata": {
    "editable": true
   },
   "outputs": [],
   "source": [
    "dim_immigration_personal = df_spark.select('cicid', 'i94cit', 'i94res', 'biryear',\\\n",
    "                                          'gender', 'insnum').distinct()\\\n",
    ".withColumn(\"immi_personal_id\", monotonically_increasing_id())\n",
    "new_columns = ['cic_id', 'country_residence','country_citizenship',\\\n",
    "               'birth_year', 'gender', 'ins_num', 'immi_personal_id']\n",
    "                  \n",
    "dim_immigration_personal = update_column_name(dim_immigration_personal, new_columns)\n",
    "dim_immigration_personal.write.mode(\"overwrite\")\\\n",
    ".parquet(path='immigration_data/dim_immigration_personal')"
   ]
  },
  {
   "cell_type": "code",
   "execution_count": 71,
   "metadata": {
    "editable": true
   },
   "outputs": [
    {
     "data": {
      "text/plain": [
       "[Row(cicid=5748517.0, i94yr=2016.0, i94mon=4.0, i94cit=245.0, i94res=438.0, i94port='LOS', arrdate=20574.0, i94mode=1.0, i94addr='CA', depdate=20582.0, i94bir=40.0, i94visa=1.0, count=1.0, dtadfile='20160430', visapost='SYD', occup=None, entdepa='G', entdepd='O', entdepu=None, matflag='M', biryear=1976.0, dtaddto='10292016', gender='F', insnum=None, airline='QF', admnum=94953870030.0, fltno='00011', visatype='B1')]"
      ]
     },
     "execution_count": 71,
     "metadata": {},
     "output_type": "execute_result"
    }
   ],
   "source": [
    "df_spark=spark.read.parquet(\"sas_data\")\n",
    "df_spark.head(1)"
   ]
  },
  {
   "cell_type": "code",
   "execution_count": 24,
   "metadata": {
    "editable": true
   },
   "outputs": [],
   "source": [
    "#df_airport = spark.read.format('com.github.saurfang.sas.spark').load('airport-codes_csv.csv')\n",
    "#df_airport  = spark.read.format(\"csv\").option(\"header\", \"true\").load('airport-codes_csv.csv')\n",
    "df_airport  = spark.read.csv('airport-codes_csv.csv', header=True)"
   ]
  },
  {
   "cell_type": "code",
   "execution_count": 25,
   "metadata": {
    "editable": true
   },
   "outputs": [
    {
     "name": "stdout",
     "output_type": "stream",
     "text": [
      "+-----+-------------+--------------------+------------+---------+-----------+----------+------------+--------+---------+----------+--------------------+\n",
      "|ident|         type|                name|elevation_ft|continent|iso_country|iso_region|municipality|gps_code|iata_code|local_code|         coordinates|\n",
      "+-----+-------------+--------------------+------------+---------+-----------+----------+------------+--------+---------+----------+--------------------+\n",
      "|  00A|     heliport|   Total Rf Heliport|          11|       NA|         US|        PA|    Bensalem|     00A|     null|       00A|-74.9336013793945...|\n",
      "| 00AA|small_airport|Aero B Ranch Airport|        3435|       NA|         US|        KS|       Leoti|    00AA|     null|      00AA|-101.473911, 38.7...|\n",
      "| 00AK|small_airport|        Lowell Field|         450|       NA|         US|        AK|Anchor Point|    00AK|     null|      00AK|-151.695999146, 5...|\n",
      "| 00AL|small_airport|        Epps Airpark|         820|       NA|         US|        AL|     Harvest|    00AL|     null|      00AL|-86.7703018188476...|\n",
      "| 00AR|       closed|Newport Hospital ...|         237|       NA|         US|        AR|     Newport|    null|     null|      null| -91.254898, 35.6087|\n",
      "| 00AS|small_airport|      Fulton Airport|        1100|       NA|         US|        OK|        Alex|    00AS|     null|      00AS|-97.8180194, 34.9...|\n",
      "| 00AZ|small_airport|      Cordes Airport|        3810|       NA|         US|        AZ|      Cordes|    00AZ|     null|      00AZ|-112.165000915527...|\n",
      "| 00CA|small_airport|Goldstone /Gts/ A...|        3038|       NA|         US|        CA|     Barstow|    00CA|     null|      00CA|-116.888000488, 3...|\n",
      "| 00CL|small_airport| Williams Ag Airport|          87|       NA|         US|        CA|       Biggs|    00CL|     null|      00CL|-121.763427, 39.4...|\n",
      "| 00CN|     heliport|Kitchen Creek Hel...|        3350|       NA|         US|        CA| Pine Valley|    00CN|     null|      00CN|-116.4597417, 32....|\n",
      "| 00CO|       closed|          Cass Field|        4830|       NA|         US|        CO|  Briggsdale|    null|     null|      null|-104.344002, 40.6...|\n",
      "| 00FA|small_airport| Grass Patch Airport|          53|       NA|         US|        FL|    Bushnell|    00FA|     null|      00FA|-82.2190017700195...|\n",
      "| 00FD|     heliport|  Ringhaver Heliport|          25|       NA|         US|        FL|   Riverview|    00FD|     null|      00FD|-82.3453979492187...|\n",
      "| 00FL|small_airport|   River Oak Airport|          35|       NA|         US|        FL|  Okeechobee|    00FL|     null|      00FL|-80.9692001342773...|\n",
      "| 00GA|small_airport|    Lt World Airport|         700|       NA|         US|        GA|    Lithonia|    00GA|     null|      00GA|-84.0682983398437...|\n",
      "| 00GE|     heliport|    Caffrey Heliport|         957|       NA|         US|        GA|       Hiram|    00GE|     null|      00GE|-84.7339019775390...|\n",
      "| 00HI|     heliport|  Kaupulehu Heliport|          43|       NA|         US|        HI| Kailua/Kona|    00HI|     null|      00HI|-155.980233, 19.8...|\n",
      "| 00ID|small_airport|Delta Shores Airport|        2064|       NA|         US|        ID|  Clark Fork|    00ID|     null|      00ID|-116.213996887207...|\n",
      "| 00IG|small_airport|       Goltl Airport|        3359|       NA|         US|        KS|    McDonald|    00IG|     null|      00IG|-101.395994, 39.7...|\n",
      "| 00II|     heliport|Bailey Generation...|         600|       NA|         US|        IN|  Chesterton|    00II|     null|      00II|-87.122802734375,...|\n",
      "+-----+-------------+--------------------+------------+---------+-----------+----------+------------+--------+---------+----------+--------------------+\n",
      "only showing top 20 rows\n",
      "\n"
     ]
    }
   ],
   "source": [
    "from pyspark.sql.functions import substring\n",
    "df_airport=df_airport.withColumn('iso_region', substring('iso_region', 4,5))\n",
    "df_airport.show()"
   ]
  },
  {
   "cell_type": "code",
   "execution_count": 26,
   "metadata": {
    "editable": true
   },
   "outputs": [
    {
     "name": "stdout",
     "output_type": "stream",
     "text": [
      "+--------------+\n",
      "|          type|\n",
      "+--------------+\n",
      "| large_airport|\n",
      "|   balloonport|\n",
      "| seaplane_base|\n",
      "|      heliport|\n",
      "|        closed|\n",
      "|medium_airport|\n",
      "| small_airport|\n",
      "+--------------+\n",
      "\n"
     ]
    }
   ],
   "source": [
    "df_airport.select('type').distinct().show()"
   ]
  },
  {
   "cell_type": "code",
   "execution_count": 27,
   "metadata": {
    "editable": true
   },
   "outputs": [
    {
     "name": "stderr",
     "output_type": "stream",
     "text": [
      "/opt/spark-2.4.3-bin-hadoop2.7/python/pyspark/sql/session.py:346: UserWarning: inferring schema from dict is deprecated,please use pyspark.sql.Row instead\n",
      "  warnings.warn(\"inferring schema from dict is deprecated,\"\n"
     ]
    }
   ],
   "source": [
    "data = [{'code' : 1, 'airport_type' : 'closed'}, {'code' : 2, 'airport_type' : 'small_airport'},\n",
    "        {'code' : 3, 'airport_type' : 'medium_airport'}, {'code' : 4, 'airport_type' : 'large_airport'},\n",
    "        {'code' : 5, 'airport_type' : 'heliport'}, {'code' : 6, 'airport_type' : 'seaplane_base'},\n",
    "        {'code' : 7, 'airport_type' : 'balloonport'}]\n",
    "\n",
    "dim_airport_type = spark.createDataFrame(data)"
   ]
  },
  {
   "cell_type": "code",
   "execution_count": 28,
   "metadata": {
    "editable": true
   },
   "outputs": [
    {
     "name": "stdout",
     "output_type": "stream",
     "text": [
      "+----+--------------+\n",
      "|code|  airport_type|\n",
      "+----+--------------+\n",
      "|   1|        closed|\n",
      "|   2| small_airport|\n",
      "|   3|medium_airport|\n",
      "|   4| large_airport|\n",
      "|   5|      heliport|\n",
      "|   6| seaplane_base|\n",
      "|   7|   balloonport|\n",
      "+----+--------------+\n",
      "\n"
     ]
    }
   ],
   "source": [
    "dim_airport_type = dim_airport_type.select(sorted(dim_airport_type.columns,reverse=True))\n",
    "dim_airport_type = dim_airport_type.withColumn('code',col('code').cast(\"int\"))\n",
    "dim_airport_type.show()\n",
    "dim_airport_type.write.mode(\"overwrite\").parquet(path='airport_data/dim_airport_type')"
   ]
  },
  {
   "cell_type": "code",
   "execution_count": 29,
   "metadata": {
    "editable": true
   },
   "outputs": [
    {
     "name": "stdout",
     "output_type": "stream",
     "text": [
      "+------------+----------+-------------+\n",
      "|        city|state_code|      country|\n",
      "+------------+----------+-------------+\n",
      "|    BENSALEM|        PA|United States|\n",
      "|       LEOTI|        KS|United States|\n",
      "|ANCHOR POINT|        AK|United States|\n",
      "|     HARVEST|        AL|United States|\n",
      "|     NEWPORT|        AR|United States|\n",
      "+------------+----------+-------------+\n",
      "only showing top 5 rows\n",
      "\n"
     ]
    }
   ],
   "source": [
    "dim_airport_city_state_code = df_airport.select(['municipality','iso_region'])\n",
    "dim_airport_city_state_code = dim_airport_city_state_code.withColumn('country', lit('United States'))\n",
    "new_columns = ['city', 'state_code', 'country']\n",
    "dim_airport_city_state_code = update_column_name(dim_airport_city_state_code, new_columns)\n",
    "dim_airport_city_state_code = dim_airport_city_state_code.withColumn('city', upper(col('city')))\n",
    "dim_airport_city_state_code.write.mode(\"overwrite\").parquet(path='airport_data/dim_airport_city_state_code')\n",
    "dim_airport_city_state_code.show(5)"
   ]
  },
  {
   "cell_type": "code",
   "execution_count": 31,
   "metadata": {
    "editable": true
   },
   "outputs": [
    {
     "name": "stdout",
     "output_type": "stream",
     "text": [
      "+-----+-------------+--------------------+------------+------------+---------+--------------------+\n",
      "|ident|         type|                name|elevation_ft|municipality|iata_code|         coordinates|\n",
      "+-----+-------------+--------------------+------------+------------+---------+--------------------+\n",
      "|  00A|     heliport|   Total Rf Heliport|          11|    Bensalem|     null|-74.9336013793945...|\n",
      "| 00AA|small_airport|Aero B Ranch Airport|        3435|       Leoti|     null|-101.473911, 38.7...|\n",
      "| 00AK|small_airport|        Lowell Field|         450|Anchor Point|     null|-151.695999146, 5...|\n",
      "| 00AL|small_airport|        Epps Airpark|         820|     Harvest|     null|-86.7703018188476...|\n",
      "| 00AR|       closed|Newport Hospital ...|         237|     Newport|     null| -91.254898, 35.6087|\n",
      "+-----+-------------+--------------------+------------+------------+---------+--------------------+\n",
      "only showing top 5 rows\n",
      "\n"
     ]
    }
   ],
   "source": [
    "dim_airport = df_airport.select([\"ident\",\"type\",\"name\",\"elevation_ft\",\"municipality\",\"iata_code\",\"coordinates\"])\n",
    "dim_airport.show(5)"
   ]
  },
  {
   "cell_type": "code",
   "execution_count": 32,
   "metadata": {
    "editable": true
   },
   "outputs": [
    {
     "name": "stdout",
     "output_type": "stream",
     "text": [
      "+-----+-------------+--------------------+------------+------------+---------+------------------+------------------+\n",
      "|ident|         type|                name|elevation_ft|municipality|iata_code| airport_longitude|  airport_latitude|\n",
      "+-----+-------------+--------------------+------------+------------+---------+------------------+------------------+\n",
      "|  00A|     heliport|   Total Rf Heliport|          11|    Bensalem|     null|-74.93360137939453|    40.07080078125|\n",
      "| 00AA|small_airport|Aero B Ranch Airport|        3435|       Leoti|     null|       -101.473911|         38.704022|\n",
      "| 00AK|small_airport|        Lowell Field|         450|Anchor Point|     null|    -151.695999146|       59.94919968|\n",
      "| 00AL|small_airport|        Epps Airpark|         820|     Harvest|     null|-86.77030181884766| 34.86479949951172|\n",
      "| 00AR|       closed|Newport Hospital ...|         237|     Newport|     null|        -91.254898|           35.6087|\n",
      "+-----+-------------+--------------------+------------+------------+---------+------------------+------------------+\n",
      "only showing top 5 rows\n",
      "\n"
     ]
    }
   ],
   "source": [
    "from pyspark.sql.functions import split\n",
    "split_col = split(dim_airport['coordinates'], ',')\n",
    "dim_airport = dim_airport.withColumn('airport_longitude', split_col.getItem(0))\n",
    "dim_airport = dim_airport.withColumn('airport_latitude', split_col.getItem(1))\n",
    "dim_airport = dim_airport.drop(\"coordinates\")\n",
    "dim_airport.withColumn('airport_longitude',col('airport_longitude').cast(\"float\"))\n",
    "dim_airport.withColumn('airport_latitude',col('airport_latitude').cast(\"float\"))\n",
    "dim_airport.show(5)"
   ]
  },
  {
   "cell_type": "code",
   "execution_count": 33,
   "metadata": {
    "editable": true
   },
   "outputs": [
    {
     "name": "stdout",
     "output_type": "stream",
     "text": [
      "+-----+-------------+--------------------+------------+------------+---------+-----------------+----------------+\n",
      "|ident|         type|                name|elevation_ft|municipality|iata_code|airport_longitude|airport_latitude|\n",
      "+-----+-------------+--------------------+------------+------------+---------+-----------------+----------------+\n",
      "|  00A|     heliport|   Total Rf Heliport|          11|    Bensalem|     null|           -74.93|           40.07|\n",
      "| 00AA|small_airport|Aero B Ranch Airport|        3435|       Leoti|     null|          -101.47|            38.7|\n",
      "| 00AK|small_airport|        Lowell Field|         450|Anchor Point|     null|           -151.7|           59.95|\n",
      "| 00AL|small_airport|        Epps Airpark|         820|     Harvest|     null|           -86.77|           34.86|\n",
      "| 00AR|       closed|Newport Hospital ...|         237|     Newport|     null|           -91.25|           35.61|\n",
      "+-----+-------------+--------------------+------------+------------+---------+-----------------+----------------+\n",
      "only showing top 5 rows\n",
      "\n"
     ]
    }
   ],
   "source": [
    "from pyspark.sql.functions import round\n",
    "dim_airport = dim_airport.withColumn('airport_longitude', round(dim_airport['airport_longitude'], 2))\n",
    "dim_airport = dim_airport.withColumn('airport_latitude', round(dim_airport['airport_latitude'], 2))\n",
    "dim_airport.show(5)"
   ]
  },
  {
   "cell_type": "code",
   "execution_count": 34,
   "metadata": {
    "editable": true
   },
   "outputs": [
    {
     "name": "stdout",
     "output_type": "stream",
     "text": [
      "+-----+-----------------+--------------------+------------+------------+---------+-----------------+----------------+\n",
      "|ident|airport_type_code|        airport_name|elevation_ft|        city|iata_code|airport_longitude|airport_latitude|\n",
      "+-----+-----------------+--------------------+------------+------------+---------+-----------------+----------------+\n",
      "|  00A|                5|   Total Rf Heliport|          11|    BENSALEM|     null|           -74.93|           40.07|\n",
      "| 00AA|                2|Aero B Ranch Airport|        3435|       LEOTI|     null|          -101.47|            38.7|\n",
      "| 00AK|                2|        Lowell Field|         450|ANCHOR POINT|     null|           -151.7|           59.95|\n",
      "| 00AL|                2|        Epps Airpark|         820|     HARVEST|     null|           -86.77|           34.86|\n",
      "| 00AR|                1|Newport Hospital ...|         237|     NEWPORT|     null|           -91.25|           35.61|\n",
      "+-----+-----------------+--------------------+------------+------------+---------+-----------------+----------------+\n",
      "only showing top 5 rows\n",
      "\n"
     ]
    }
   ],
   "source": [
    "code=[1,2,3,4,5,6,7]\n",
    "maps_airport_type = {'closed':'1','small_airport':'2','medium_airport':'3','large_airport':'4','heliport':'5', 'seaplane_base':'6','balloonport':'7'}\n",
    "dim_airport = dim_airport.replace(to_replace=maps_airport_type, subset=['type'])\n",
    "new_columns  = ['ident','airport_type_code','airport_name','elevation_ft','city','iata_code','airport_longitude','airport_latitude']\n",
    "dim_airport = update_column_name(dim_airport, new_columns)\n",
    "dim_airport = dim_airport.withColumn('airport_type_code',col('airport_type_code').cast(\"int\"))\n",
    "dim_airport = dim_airport.withColumn('city', upper(col('city')))\n",
    "dim_airport.write.mode(\"overwrite\").parquet(path='airport_data/dim_airport')\n",
    "dim_airport.show(5)"
   ]
  },
  {
   "cell_type": "code",
   "execution_count": 35,
   "metadata": {
    "editable": true
   },
   "outputs": [
    {
     "name": "stdout",
     "output_type": "stream",
     "text": [
      "+----------+------------------+-----------------------------+-------+-------------+--------+---------+\n",
      "|        dt|AverageTemperature|AverageTemperatureUncertainty|   City|      Country|Latitude|Longitude|\n",
      "+----------+------------------+-----------------------------+-------+-------------+--------+---------+\n",
      "|1820-01-01|2.1010000000000004|                        3.217|Abilene|United States|  32.95N|  100.53W|\n",
      "|1820-02-01|             6.926|                        2.853|Abilene|United States|  32.95N|  100.53W|\n",
      "|1820-03-01|            10.767|                        2.395|Abilene|United States|  32.95N|  100.53W|\n",
      "|1820-04-01|17.988999999999994|                        2.202|Abilene|United States|  32.95N|  100.53W|\n",
      "|1820-05-01|            21.809|                        2.036|Abilene|United States|  32.95N|  100.53W|\n",
      "+----------+------------------+-----------------------------+-------+-------------+--------+---------+\n",
      "only showing top 5 rows\n",
      "\n"
     ]
    }
   ],
   "source": [
    "df_temperature  = spark.read.csv('../../data2/GlobalLandTemperaturesByCity.csv', header=True)\n",
    "df_temperature = df_temperature.where(df_temperature['Country'] == 'United States')\n",
    "df_temperature.show(5)"
   ]
  },
  {
   "cell_type": "code",
   "execution_count": 36,
   "metadata": {
    "editable": true
   },
   "outputs": [
    {
     "name": "stdout",
     "output_type": "stream",
     "text": [
      "+------------+--------+---------+\n",
      "|        City|Latitude|Longitude|\n",
      "+------------+--------+---------+\n",
      "| New Orleans|  29.74N|   90.46W|\n",
      "| Kansas City|  39.38N|   93.64W|\n",
      "| Springfield|  37.78N|   93.56W|\n",
      "|Independence|  39.38N|   93.64W|\n",
      "|     Fontana|  34.56N|  116.76W|\n",
      "+------------+--------+---------+\n",
      "only showing top 5 rows\n",
      "\n"
     ]
    }
   ],
   "source": [
    "dim_temperature_city = df_temperature.select(['City','Latitude','Longitude']).distinct() \n",
    "dim_temperature_city.show(5)"
   ]
  },
  {
   "cell_type": "code",
   "execution_count": 37,
   "metadata": {
    "editable": true
   },
   "outputs": [
    {
     "name": "stdout",
     "output_type": "stream",
     "text": [
      "+------------+--------+---------+\n",
      "|        city|latitude|longitude|\n",
      "+------------+--------+---------+\n",
      "| NEW ORLEANS|   29.74|   -90.46|\n",
      "| KANSAS CITY|   39.38|   -93.64|\n",
      "| SPRINGFIELD|   37.78|   -93.56|\n",
      "|INDEPENDENCE|   39.38|   -93.64|\n",
      "|     FONTANA|   34.56|  -116.76|\n",
      "+------------+--------+---------+\n",
      "only showing top 5 rows\n",
      "\n"
     ]
    }
   ],
   "source": [
    "from pyspark.sql.functions import when, substring, expr\n",
    "\n",
    "dim_temperature_city = dim_temperature_city.withColumn('Latitude', when(substring('Latitude', -1,1)=='N',\\\n",
    "                                                                        expr(\"substring(Latitude, 1, length(Latitude)-1)\")).otherwise\\\n",
    "                                                       (-expr(\"substring(Latitude, 1, length(Latitude)-1)\")))\n",
    "\n",
    "dim_temperature_city = dim_temperature_city.withColumn('Longitude', when(substring('Longitude', -1,1)=='E',\\\n",
    "                                                                        expr(\"substring(Longitude, 1, length(Longitude)-1)\")).otherwise\\\n",
    "                                                       (-expr(\"substring(Longitude, 1, length(Longitude)-1)\")))\n",
    "\n",
    "new_columns=['city','latitude','longitude']\n",
    "dim_temperature_city = update_column_name(dim_temperature_city, new_columns)\n",
    "dim_temperature_city = dim_temperature_city.withColumn('city', upper(col('city')))\n",
    "dim_temperature_city.show(5)"
   ]
  },
  {
   "cell_type": "code",
   "execution_count": 38,
   "metadata": {
    "editable": true
   },
   "outputs": [],
   "source": [
    "dim_temperature_city.write.mode(\"overwrite\").parquet(path='temperature_data/dim_temperature_city')"
   ]
  },
  {
   "cell_type": "code",
   "execution_count": 100,
   "metadata": {
    "editable": true
   },
   "outputs": [
    {
     "name": "stdout",
     "output_type": "stream",
     "text": [
      "+----------+------------------+------------------+-------+-------------+----+-----+\n",
      "|      date|          avg_temp|      avg_temp_var|   city|      country|year|month|\n",
      "+----------+------------------+------------------+-------+-------------+----+-----+\n",
      "|1821-06-01|            25.768|             2.653|Abilene|United States|1821|    6|\n",
      "|1830-11-01|            13.302|             2.715|Abilene|United States|1830|   11|\n",
      "|1836-11-01|             8.827|2.1719999999999997|Abilene|United States|1836|   11|\n",
      "|1846-07-01|28.258000000000003|2.0069999999999997|Abilene|United States|1846|    7|\n",
      "|1863-04-01|            18.553|1.1740000000000002|Abilene|United States|1863|    4|\n",
      "+----------+------------------+------------------+-------+-------------+----+-----+\n",
      "only showing top 5 rows\n",
      "\n"
     ]
    }
   ],
   "source": [
    "dim_temperature_usa=df_temperature.select(['dt','AverageTemperature','AverageTemperatureUncertainty','City','Country']).distinct()\n",
    "dim_temperature_usa = dim_temperature_usa.withColumn('year', substring('dt',1,4))\n",
    "dim_temperature_usa = dim_temperature_usa.withColumn('month', substring(substring('dt',6,6),1,2))\n",
    "new_columns = ['date','avg_temp','avg_temp_var','city','country','year','month']\n",
    "dim_temperature_usa = update_column_name(dim_temperature_usa, new_columns)\n",
    "dim_temperature_usa = dim_temperature_usa.withColumn('year',col('year').cast(\"int\"))\n",
    "dim_temperature_usa = dim_temperature_usa.withColumn('month',col('month').cast(\"int\"))\n",
    "dim_temperature_usa.write.mode(\"overwrite\").parquet(path='temperature_data/dim_temperature_usa')\n",
    "dim_temperature_usa.show(5)"
   ]
  },
  {
   "cell_type": "code",
   "execution_count": 39,
   "metadata": {
    "editable": true
   },
   "outputs": [
    {
     "name": "stdout",
     "output_type": "stream",
     "text": [
      "+----------------+-------------+----------+---------------+-----------------+----------------+------------------+------------+----------------------+----------+--------------------+-----+\n",
      "|            City|        State|Median Age|Male Population|Female Population|Total Population|Number of Veterans|Foreign-born|Average Household Size|State Code|                Race|Count|\n",
      "+----------------+-------------+----------+---------------+-----------------+----------------+------------------+------------+----------------------+----------+--------------------+-----+\n",
      "|   Silver Spring|     Maryland|      33.8|          40601|            41862|           82463|              1562|       30908|                   2.6|        MD|  Hispanic or Latino|25924|\n",
      "|          Quincy|Massachusetts|      41.0|          44129|            49500|           93629|              4147|       32935|                  2.39|        MA|               White|58723|\n",
      "|          Hoover|      Alabama|      38.5|          38040|            46799|           84839|              4819|        8229|                  2.58|        AL|               Asian| 4759|\n",
      "|Rancho Cucamonga|   California|      34.5|          88127|            87105|          175232|              5821|       33878|                  3.18|        CA|Black or African-...|24437|\n",
      "|          Newark|   New Jersey|      34.6|         138040|           143873|          281913|              5829|       86253|                  2.73|        NJ|               White|76402|\n",
      "+----------------+-------------+----------+---------------+-----------------+----------------+------------------+------------+----------------------+----------+--------------------+-----+\n",
      "only showing top 5 rows\n",
      "\n"
     ]
    }
   ],
   "source": [
    "df_demographics = spark.read.format('csv').options(header=True, delimiter=';').load('us-cities-demographics.csv')\n",
    "df_demographics.show(5)"
   ]
  },
  {
   "cell_type": "code",
   "execution_count": 40,
   "metadata": {
    "editable": true
   },
   "outputs": [
    {
     "name": "stderr",
     "output_type": "stream",
     "text": [
      "/opt/spark-2.4.3-bin-hadoop2.7/python/pyspark/sql/session.py:346: UserWarning: inferring schema from dict is deprecated,please use pyspark.sql.Row instead\n",
      "  warnings.warn(\"inferring schema from dict is deprecated,\"\n"
     ]
    },
    {
     "name": "stdout",
     "output_type": "stream",
     "text": [
      "+---------+--------------------+\n",
      "|race_code|           race_type|\n",
      "+---------+--------------------+\n",
      "|        1|  Hispanic or Latino|\n",
      "|        2|               White|\n",
      "|        3|               Asian|\n",
      "|        4|Black or African-...|\n",
      "|        5|American Indian a...|\n",
      "+---------+--------------------+\n",
      "\n"
     ]
    }
   ],
   "source": [
    "data = [{'race_code' : 1, 'race_type' : 'Hispanic or Latino'}, {'race_code' : 2, 'race_type' : 'White'},\n",
    "        {'race_code' : 3, 'race_type' : 'Asian'}, {'race_code' : 4, 'race_type' : 'Black or African-American'},\n",
    "        {'race_code' : 5, 'race_type' : 'American Indian and Alaska Native'}]\n",
    "\n",
    "dim_demographics_race = spark.createDataFrame(data)\n",
    "dim_demographics_race.write.mode(\"overwrite\")\\\n",
    ".parquet(path='demographics_data/dim_demographics_race')\n",
    "dim_demographics_race.show()"
   ]
  },
  {
   "cell_type": "code",
   "execution_count": 43,
   "metadata": {
    "editable": true
   },
   "outputs": [
    {
     "name": "stdout",
     "output_type": "stream",
     "text": [
      "+------------------+---------+\n",
      "|               idx|race_code|\n",
      "+------------------+---------+\n",
      "|   SILVER SPRINGMD|        1|\n",
      "|          QUINCYMA|        2|\n",
      "|          HOOVERAL|        3|\n",
      "|RANCHO CUCAMONGACA|        4|\n",
      "|          NEWARKNJ|        2|\n",
      "+------------------+---------+\n",
      "only showing top 5 rows\n",
      "\n"
     ]
    }
   ],
   "source": [
    "maps_race_type = {'Hispanic or Latino':'1','White':'2','Asian':'3','Black or African-American':'4',\\\n",
    "                  'American Indian and Alaska Native':'5'}\n",
    "dim_demographics_city_race = df_demographics.select(['City','State Code','Race'])\n",
    "new_columns = ['city','state','race']\n",
    "dim_demographics_city_race = update_column_name(dim_demographics_city_race, new_columns)\n",
    "dim_demographics_city_race = dim_demographics_city_race.select(concat(dim_demographics_city_race.city,\\\n",
    "                                                                      dim_demographics_city_race.state)\\\n",
    "                                                               .alias('idx'),'race')\n",
    "dim_demographics_city_race = dim_demographics_city_race.replace(to_replace=maps_race_type, subset=['race'])\n",
    "new_columns = ['idx','race_code']\n",
    "dim_demographics_city_race = update_column_name(dim_demographics_city_race, new_columns)\n",
    "dim_demographics_city_race = dim_demographics_city_race\\\n",
    ".withColumn('idx', upper(col('idx')))\n",
    "dim_demographics_city_race.write.mode(\"overwrite\")\\\n",
    ".parquet(path='demographics_data/dim_demographics_city_race')\n",
    "dim_demographics_city_race.show(5)"
   ]
  },
  {
   "cell_type": "code",
   "execution_count": 44,
   "metadata": {
    "editable": true
   },
   "outputs": [
    {
     "name": "stdout",
     "output_type": "stream",
     "text": [
      "+-------------+-----------+----------+--------+----------+------------+------------+----------+------------------+\n",
      "|          idx|       city|state_code|male_pop|female_pop|num_vetarans|foreign_born|median_age|avg_household_size|\n",
      "+-------------+-----------+----------+--------+----------+------------+------------+----------+------------------+\n",
      "|    HAMPTONVA|    HAMPTON|        VA|   66214|     70240|       19638|        6204|      35.5|              2.48|\n",
      "|   EL MONTECA|   EL MONTE|        CA|   57961|     58784|        1686|       59655|      37.3|              3.67|\n",
      "| SOMERVILLEMA| SOMERVILLE|        MA|   41028|     39306|        2103|       22292|      31.0|              2.43|\n",
      "|SPRINGFIELDIL|SPRINGFIELD|        IL|   55639|     62170|        7525|        4264|      38.8|              2.22|\n",
      "|     TEMPLETX|     TEMPLE|        TX|   33512|     38785|        7333|        3968|      33.6|              2.59|\n",
      "+-------------+-----------+----------+--------+----------+------------+------------+----------+------------------+\n",
      "only showing top 5 rows\n",
      "\n"
     ]
    }
   ],
   "source": [
    "    dim_demographics_city_population = df_demographics.select(['City','State Code','Male Population',\\\n",
    "                                                               'Female Population','Number of Veterans',\\\n",
    "                                                               'Foreign-born','Median Age',\\\n",
    "                                                               'Average Household Size']).distinct()\n",
    "    new_columns = ['city','state_code','male_pop','female_pop','num_vetarans','foreign_born',\\\n",
    "                   'median_age','avg_household_size']\n",
    "    dim_demographics_city_population = update_column_name(dim_demographics_city_population, new_columns)\n",
    "    dim_demographics_city_population = dim_demographics_city_population.\\\n",
    "    select(concat(dim_demographics_city_population.city,\\\n",
    "                  dim_demographics_city_population.state_code)\\\n",
    "           .alias('idx'),'city','state_code','male_pop','female_pop',\\\n",
    "           'num_vetarans','foreign_born','median_age',\\\n",
    "           'avg_household_size')\n",
    "    dim_demographics_city_population = dim_demographics_city_population\\\n",
    "    .withColumn('city', upper(col('city')))\n",
    "    dim_demographics_city_population = dim_demographics_city_population\\\n",
    "    .withColumn('idx', upper(col('idx')))\n",
    "    dim_demographics_city_population.write.mode(\"overwrite\").parquet\\\n",
    "    (path='demographics_data/dim_demographics_city_population')\n",
    "dim_demographics_city_population.show(5)"
   ]
  },
  {
   "cell_type": "code",
   "execution_count": 8,
   "metadata": {
    "editable": true
   },
   "outputs": [
    {
     "name": "stdout",
     "output_type": "stream",
     "text": [
      "+----+---------------+\n",
      "|code|        country|\n",
      "+----+---------------+\n",
      "| 236|    AFGHANISTAN|\n",
      "| 101|        ALBANIA|\n",
      "| 316|        ALGERIA|\n",
      "| 102|        ANDORRA|\n",
      "| 324|         ANGOLA|\n",
      "| 529|       ANGUILLA|\n",
      "| 518|ANTIGUA-BARBUDA|\n",
      "| 687|     ARGENTINA |\n",
      "| 151|        ARMENIA|\n",
      "| 532|          ARUBA|\n",
      "+----+---------------+\n",
      "only showing top 10 rows\n",
      "\n"
     ]
    }
   ],
   "source": [
    "with open(\"I94_SAS_Labels_Descriptions.SAS\") as f:\n",
    "    contents = f.readlines()\n",
    "    \n",
    "country_code = {}\n",
    "for countries in contents[10:298]:\n",
    "    pair = countries.split('=')\n",
    "    code, country = pair[0].strip(), pair[1].strip().strip(\"'\")\n",
    "    country_code[code] = country\n",
    " \n",
    "country_code = spark.createDataFrame(country_code.items(), ['code', 'country'])\n",
    "country_code.write.mode(\"overwrite\").parquet(path='label_data/country_code')\n",
    "country_code.show(10)"
   ]
  },
  {
   "cell_type": "code",
   "execution_count": 10,
   "metadata": {
    "editable": true
   },
   "outputs": [
    {
     "name": "stdout",
     "output_type": "stream",
     "text": [
      "+---------+--------------------+\n",
      "|abbr_code|                city|\n",
      "+---------+--------------------+\n",
      "|      ANC|ANCHORAGE, AK    ...|\n",
      "|      BAR|BAKER AAF - BAKER...|\n",
      "|      DAC|DALTONS CACHE, AK...|\n",
      "|      PIZ|DEW STATION PT LA...|\n",
      "|      DTH|DUTCH HARBOR, AK ...|\n",
      "|      EGL|EAGLE, AK        ...|\n",
      "|      FRB|FAIRBANKS, AK    ...|\n",
      "|      HOM|HOMER, AK        ...|\n",
      "|      HYD|HYDER, AK        ...|\n",
      "|      JUN|JUNEAU, AK       ...|\n",
      "+---------+--------------------+\n",
      "only showing top 10 rows\n",
      "\n"
     ]
    }
   ],
   "source": [
    "city_code = {}\n",
    "for cities in contents[303:962]:\n",
    "    pair = cities.split('=')\n",
    "    code, city = pair[0].strip(\"\\t\").strip().strip(\"'\"),\\\n",
    "    pair[1].strip('\\t').strip().strip(\"''\")\n",
    "    city_code[code] = city\n",
    "\n",
    "city_code = spark.createDataFrame(city_code.items(), ['abbr_code', 'city'])\n",
    "city_code.write.mode(\"overwrite\").parquet(path='label_data/city_code')\n",
    "city_code.show(10)"
   ]
  },
  {
   "cell_type": "code",
   "execution_count": 11,
   "metadata": {
    "editable": true
   },
   "outputs": [
    {
     "name": "stdout",
     "output_type": "stream",
     "text": [
      "+---------+-----------------+\n",
      "|abbr_code|            state|\n",
      "+---------+-----------------+\n",
      "|       AK|           ALASKA|\n",
      "|       AZ|          ARIZONA|\n",
      "|       AR|         ARKANSAS|\n",
      "|       CA|       CALIFORNIA|\n",
      "|       CO|         COLORADO|\n",
      "|       CT|      CONNECTICUT|\n",
      "|       DE|         DELAWARE|\n",
      "|       DC|DIST. OF COLUMBIA|\n",
      "|       FL|          FLORIDA|\n",
      "|       GA|          GEORGIA|\n",
      "+---------+-----------------+\n",
      "only showing top 10 rows\n",
      "\n"
     ]
    }
   ],
   "source": [
    "state_code = {}\n",
    "for states in contents[982:1036]:\n",
    "    pair = states.split('=')\n",
    "    code, state = pair[0].strip('\\t').strip(\"'\"), pair[1].strip().strip(\"'\")\n",
    "    state_code[code] = state\n",
    "    \n",
    "state_code = spark.createDataFrame(state_code.items(), ['abbr_code', 'state'])    \n",
    "state_code.write.mode(\"overwrite\").parquet(path='label_data/state_code')\n",
    "state_code.show(10)"
   ]
  },
  {
   "cell_type": "code",
   "execution_count": 53,
   "metadata": {
    "editable": true
   },
   "outputs": [
    {
     "name": "stdout",
     "output_type": "stream",
     "text": [
      "Table: city_code\n",
      "root\n",
      " |-- abbr_code: string (nullable = true)\n",
      " |-- city: string (nullable = true)\n",
      "\n",
      "Table: country_code\n",
      "root\n",
      " |-- code: string (nullable = true)\n",
      " |-- country: string (nullable = true)\n",
      "\n",
      "Table: state_code\n",
      "root\n",
      " |-- abbr_code: string (nullable = true)\n",
      " |-- state: string (nullable = true)\n",
      "\n",
      "Table: dim_immigration_airline\n",
      "root\n",
      " |-- cic_id: double (nullable = true)\n",
      " |-- airline: string (nullable = true)\n",
      " |-- admin_num: double (nullable = true)\n",
      " |-- flight_number: string (nullable = true)\n",
      " |-- visa_type: string (nullable = true)\n",
      " |-- visapost: string (nullable = true)\n",
      " |-- immigration_airline_id: long (nullable = true)\n",
      "\n",
      "Table: fact_immigration\n",
      "root\n",
      " |-- cic_id: double (nullable = true)\n",
      " |-- year: double (nullable = true)\n",
      " |-- month: double (nullable = true)\n",
      " |-- city_code: string (nullable = true)\n",
      " |-- arrival_date: date (nullable = true)\n",
      " |-- departure_date: date (nullable = true)\n",
      " |-- mode: double (nullable = true)\n",
      " |-- country: string (nullable = true)\n",
      " |-- matflag: string (nullable = true)\n",
      " |-- entdepa_code: string (nullable = true)\n",
      " |-- entdepd_code: string (nullable = true)\n",
      " |-- dtaddto: date (nullable = true)\n",
      " |-- dtadfile: date (nullable = true)\n",
      " |-- occup: string (nullable = true)\n",
      " |-- count: double (nullable = true)\n",
      " |-- immigration_id: long (nullable = true)\n",
      " |-- state_code: string (nullable = true)\n",
      "\n",
      "Table: dim_immigration_visa\n",
      "root\n",
      " |-- visa_type: string (nullable = true)\n",
      " |-- visa: double (nullable = true)\n",
      "\n",
      "Table: dim_immigration_entdepa\n",
      "root\n",
      " |-- code: long (nullable = true)\n",
      " |-- entdepa: string (nullable = true)\n",
      "\n",
      "Table: dim_immigration_personal\n",
      "root\n",
      " |-- cic_id: double (nullable = true)\n",
      " |-- country_residence: double (nullable = true)\n",
      " |-- country_citizenship: double (nullable = true)\n",
      " |-- birth_year: double (nullable = true)\n",
      " |-- gender: string (nullable = true)\n",
      " |-- ins_num: string (nullable = true)\n",
      " |-- immi_personal_id: long (nullable = true)\n",
      "\n",
      "Table: dim_immigration_entdepd\n",
      "root\n",
      " |-- code: long (nullable = true)\n",
      " |-- entdepd: string (nullable = true)\n",
      "\n",
      "Table: dim_temperature_city\n",
      "root\n",
      " |-- city: string (nullable = true)\n",
      " |-- latitude: string (nullable = true)\n",
      " |-- longitude: string (nullable = true)\n",
      "\n",
      "Table: dim_temperature_usa\n",
      "root\n",
      " |-- date: string (nullable = true)\n",
      " |-- avg_temp: string (nullable = true)\n",
      " |-- avg_temp_var: string (nullable = true)\n",
      " |-- city: string (nullable = true)\n",
      " |-- country: string (nullable = true)\n",
      " |-- year: integer (nullable = true)\n",
      " |-- month: integer (nullable = true)\n",
      "\n",
      "Table: dim_airport_type\n",
      "root\n",
      " |-- code: integer (nullable = true)\n",
      " |-- airport_type: string (nullable = true)\n",
      "\n",
      "Table: dim_airport_city_state_code\n",
      "root\n",
      " |-- city: string (nullable = true)\n",
      " |-- state_code: string (nullable = true)\n",
      " |-- country: string (nullable = true)\n",
      "\n",
      "Table: dim_airport\n",
      "root\n",
      " |-- ident: string (nullable = true)\n",
      " |-- airport_type_code: integer (nullable = true)\n",
      " |-- airport_name: string (nullable = true)\n",
      " |-- elevation_ft: string (nullable = true)\n",
      " |-- city: string (nullable = true)\n",
      " |-- iata_code: string (nullable = true)\n",
      " |-- airport_longitude: double (nullable = true)\n",
      " |-- airport_latitude: double (nullable = true)\n",
      "\n",
      "Table: dim_demographics_city_population\n",
      "root\n",
      " |-- idx: string (nullable = true)\n",
      " |-- city: string (nullable = true)\n",
      " |-- state_code: string (nullable = true)\n",
      " |-- male_pop: string (nullable = true)\n",
      " |-- female_pop: string (nullable = true)\n",
      " |-- num_vetarans: string (nullable = true)\n",
      " |-- foreign_born: string (nullable = true)\n",
      " |-- median_age: string (nullable = true)\n",
      " |-- avg_household_size: string (nullable = true)\n",
      "\n",
      "Table: dim_demographics_race\n",
      "root\n",
      " |-- race_code: long (nullable = true)\n",
      " |-- race_type: string (nullable = true)\n",
      "\n",
      "Table: dim_demographics_city_race\n",
      "root\n",
      " |-- idx: string (nullable = true)\n",
      " |-- race_code: string (nullable = true)\n",
      "\n"
     ]
    }
   ],
   "source": [
    "from pathlib import Path\n",
    "from os import listdir\n",
    "from os.path import isfile, join, isdir\n",
    "\n",
    "s3_bucket='/home/workspace/'\n",
    "s3_bucket_path=Path(s3_bucket)\n",
    "dir_processed_data=['label_data','immigration_data','temperature_data','airport_data','demographics_data']\n",
    "subdir_processed_data=[Path(s3_bucket + f) for f in dir_processed_data]\n",
    "\n",
    "for file_dir in s3_bucket_path.iterdir():\n",
    "    if file_dir.is_dir():\n",
    "        if file_dir in subdir_processed_data:\n",
    "            onlyfiles = [f for f in listdir(file_dir) if isdir(join(file_dir, f))]\n",
    "            file_dir=str(file_dir)\n",
    "            for f in onlyfiles:\n",
    "                filepath=file_dir+'/'+f\n",
    "                df = spark.read.parquet(filepath)\n",
    "                print(\"Table: \" + filepath.split('/')[-1])\n",
    "                schema = df.printSchema()"
   ]
  },
  {
   "cell_type": "code",
   "execution_count": 54,
   "metadata": {
    "editable": true
   },
   "outputs": [
    {
     "name": "stdout",
     "output_type": "stream",
     "text": [
      "Table: city_code\n",
      "Total 659 records.\n",
      "Table: country_code\n",
      "Total 288 records.\n",
      "Table: state_code\n",
      "Total 54 records.\n",
      "Table: dim_immigration_airline\n",
      "Total 3096313 records.\n",
      "Table: fact_immigration\n",
      "Total 8126 records.\n",
      "Table: dim_immigration_visa\n",
      "Total 17 records.\n",
      "Table: dim_immigration_entdepa\n",
      "Total 14 records.\n",
      "Table: dim_immigration_personal\n",
      "Total 3096313 records.\n",
      "Table: dim_immigration_entdepd\n",
      "Total 13 records.\n",
      "Table: dim_temperature_city\n",
      "Total 257 records.\n",
      "Table: dim_temperature_usa\n",
      "Total 687004 records.\n",
      "Table: dim_airport_type\n",
      "Total 7 records.\n",
      "Table: dim_airport_city_state_code\n",
      "Total 55075 records.\n",
      "Table: dim_airport\n",
      "Total 55075 records.\n",
      "Table: dim_demographics_city_population\n",
      "Total 596 records.\n",
      "Table: dim_demographics_race\n",
      "Total 5 records.\n",
      "Table: dim_demographics_city_race\n",
      "Total 2891 records.\n"
     ]
    }
   ],
   "source": [
    "from pathlib import Path\n",
    "from os import listdir\n",
    "from os.path import isfile, join, isdir\n",
    "\n",
    "s3_bucket='/home/workspace/'\n",
    "s3_bucket_path=Path(s3_bucket)\n",
    "dir_processed_data=['label_data','immigration_data','temperature_data','airport_data','demographics_data']\n",
    "subdir_processed_data=[Path(s3_bucket + f) for f in dir_processed_data]\n",
    "\n",
    "for file_dir in s3_bucket_path.iterdir():\n",
    "    if file_dir.is_dir():\n",
    "        if file_dir in subdir_processed_data:\n",
    "            onlyfiles = [f for f in listdir(file_dir) if isdir(join(file_dir, f))]\n",
    "            file_dir=str(file_dir)\n",
    "            for f in onlyfiles:\n",
    "                filepath=file_dir+'/'+f\n",
    "                df = spark.read.parquet(filepath)\n",
    "                record_num=df.count()\n",
    "                print(\"Table: \" + filepath.split('/')[-1])\n",
    "                if record_num <= 0:\n",
    "                    raise ValueError(\"This table is empty!\")\n",
    "                else:\n",
    "                    print(f\"Total {record_num} records.\")"
   ]
  },
  {
   "cell_type": "code",
   "execution_count": null,
   "metadata": {
    "editable": true
   },
   "outputs": [],
   "source": [
    "print(156)"
   ]
  },
  {
   "cell_type": "code",
   "execution_count": null,
   "metadata": {
    "editable": true
   },
   "outputs": [],
   "source": []
  }
 ],
 "metadata": {
  "kernelspec": {
   "display_name": "Python 3",
   "language": "python",
   "name": "python3"
  },
  "language_info": {
   "codemirror_mode": {
    "name": "ipython",
    "version": 3
   },
   "file_extension": ".py",
   "mimetype": "text/x-python",
   "name": "python",
   "nbconvert_exporter": "python",
   "pygments_lexer": "ipython3",
   "version": "3.6.3"
  }
 },
 "nbformat": 4,
 "nbformat_minor": 4
}
